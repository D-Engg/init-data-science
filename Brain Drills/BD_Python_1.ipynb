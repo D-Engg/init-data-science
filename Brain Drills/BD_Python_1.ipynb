{
 "cells": [
  {
   "cell_type": "markdown",
   "id": "9eeaa96e",
   "metadata": {},
   "source": [
    "# How can you concatenate two tuples?"
   ]
  },
  {
   "cell_type": "code",
   "execution_count": 1,
   "id": "7fd6f4de",
   "metadata": {},
   "outputs": [
    {
     "data": {
      "text/plain": [
       "(1, 'a', True, 4, 5)"
      ]
     },
     "execution_count": 1,
     "metadata": {},
     "output_type": "execute_result"
    }
   ],
   "source": [
    "tup1 = (1, 'a', True)\n",
    "tup2 = (4, 5)\n",
    "\n",
    "tup1 + tup2"
   ]
  },
  {
   "cell_type": "markdown",
   "id": "7ed75196",
   "metadata": {},
   "source": [
    "# 8. How can you initialize a 5*5 numpy array with only zeroes?"
   ]
  },
  {
   "cell_type": "code",
   "execution_count": 4,
   "id": "98df72b0",
   "metadata": {},
   "outputs": [
    {
     "data": {
      "text/plain": [
       "array([[0., 0., 0., 0., 0.],\n",
       "       [0., 0., 0., 0., 0.],\n",
       "       [0., 0., 0., 0., 0.],\n",
       "       [0., 0., 0., 0., 0.],\n",
       "       [0., 0., 0., 0., 0.]])"
      ]
     },
     "execution_count": 4,
     "metadata": {},
     "output_type": "execute_result"
    }
   ],
   "source": [
    "import numpy as np\n",
    "\n",
    "np.zeros([5, 5])"
   ]
  },
  {
   "cell_type": "markdown",
   "id": "72c97892",
   "metadata": {},
   "source": [
    "# What does PANDAS stand for?"
   ]
  },
  {
   "cell_type": "markdown",
   "id": "b3b58646",
   "metadata": {},
   "source": [
    "Ans: Python Data Analysis Library"
   ]
  },
  {
   "cell_type": "markdown",
   "id": "62869252",
   "metadata": {},
   "source": [
    "# What are dataframes?"
   ]
  },
  {
   "cell_type": "code",
   "execution_count": 6,
   "id": "93449c26",
   "metadata": {},
   "outputs": [
    {
     "data": {
      "text/html": [
       "<div>\n",
       "<style scoped>\n",
       "    .dataframe tbody tr th:only-of-type {\n",
       "        vertical-align: middle;\n",
       "    }\n",
       "\n",
       "    .dataframe tbody tr th {\n",
       "        vertical-align: top;\n",
       "    }\n",
       "\n",
       "    .dataframe thead th {\n",
       "        text-align: right;\n",
       "    }\n",
       "</style>\n",
       "<table border=\"1\" class=\"dataframe\">\n",
       "  <thead>\n",
       "    <tr style=\"text-align: right;\">\n",
       "      <th></th>\n",
       "      <th>Country (or dependency)</th>\n",
       "      <th>Population (2020)</th>\n",
       "      <th>Yearly Change</th>\n",
       "      <th>Net Change</th>\n",
       "      <th>Density (P/Km²)</th>\n",
       "      <th>Land Area (Km²)</th>\n",
       "      <th>Migrants (net)</th>\n",
       "      <th>Fert. Rate</th>\n",
       "      <th>Med. Age</th>\n",
       "      <th>Urban Pop %</th>\n",
       "      <th>World Share</th>\n",
       "    </tr>\n",
       "  </thead>\n",
       "  <tbody>\n",
       "    <tr>\n",
       "      <th>0</th>\n",
       "      <td>China</td>\n",
       "      <td>1440297825</td>\n",
       "      <td>0.39 %</td>\n",
       "      <td>5540090</td>\n",
       "      <td>153</td>\n",
       "      <td>9388211</td>\n",
       "      <td>-348399.0</td>\n",
       "      <td>1.7</td>\n",
       "      <td>38</td>\n",
       "      <td>61 %</td>\n",
       "      <td>18.47 %</td>\n",
       "    </tr>\n",
       "    <tr>\n",
       "      <th>1</th>\n",
       "      <td>India</td>\n",
       "      <td>1382345085</td>\n",
       "      <td>0.99 %</td>\n",
       "      <td>13586631</td>\n",
       "      <td>464</td>\n",
       "      <td>2973190</td>\n",
       "      <td>-532687.0</td>\n",
       "      <td>2.2</td>\n",
       "      <td>28</td>\n",
       "      <td>35 %</td>\n",
       "      <td>17.70 %</td>\n",
       "    </tr>\n",
       "    <tr>\n",
       "      <th>2</th>\n",
       "      <td>United States</td>\n",
       "      <td>331341050</td>\n",
       "      <td>0.59 %</td>\n",
       "      <td>1937734</td>\n",
       "      <td>36</td>\n",
       "      <td>9147420</td>\n",
       "      <td>954806.0</td>\n",
       "      <td>1.8</td>\n",
       "      <td>38</td>\n",
       "      <td>83 %</td>\n",
       "      <td>4.25 %</td>\n",
       "    </tr>\n",
       "    <tr>\n",
       "      <th>3</th>\n",
       "      <td>Indonesia</td>\n",
       "      <td>274021604</td>\n",
       "      <td>1.07 %</td>\n",
       "      <td>2898047</td>\n",
       "      <td>151</td>\n",
       "      <td>1811570</td>\n",
       "      <td>-98955.0</td>\n",
       "      <td>2.3</td>\n",
       "      <td>30</td>\n",
       "      <td>56 %</td>\n",
       "      <td>3.51 %</td>\n",
       "    </tr>\n",
       "    <tr>\n",
       "      <th>4</th>\n",
       "      <td>Pakistan</td>\n",
       "      <td>221612785</td>\n",
       "      <td>2.00 %</td>\n",
       "      <td>4327022</td>\n",
       "      <td>287</td>\n",
       "      <td>770880</td>\n",
       "      <td>-233379.0</td>\n",
       "      <td>3.6</td>\n",
       "      <td>23</td>\n",
       "      <td>35 %</td>\n",
       "      <td>2.83 %</td>\n",
       "    </tr>\n",
       "    <tr>\n",
       "      <th>...</th>\n",
       "      <td>...</td>\n",
       "      <td>...</td>\n",
       "      <td>...</td>\n",
       "      <td>...</td>\n",
       "      <td>...</td>\n",
       "      <td>...</td>\n",
       "      <td>...</td>\n",
       "      <td>...</td>\n",
       "      <td>...</td>\n",
       "      <td>...</td>\n",
       "      <td>...</td>\n",
       "    </tr>\n",
       "    <tr>\n",
       "      <th>230</th>\n",
       "      <td>Montserrat</td>\n",
       "      <td>4993</td>\n",
       "      <td>0.06 %</td>\n",
       "      <td>3</td>\n",
       "      <td>50</td>\n",
       "      <td>100</td>\n",
       "      <td>NaN</td>\n",
       "      <td>N.A.</td>\n",
       "      <td>N.A.</td>\n",
       "      <td>10 %</td>\n",
       "      <td>0.00 %</td>\n",
       "    </tr>\n",
       "    <tr>\n",
       "      <th>231</th>\n",
       "      <td>Falkland Islands</td>\n",
       "      <td>3497</td>\n",
       "      <td>3.05 %</td>\n",
       "      <td>103</td>\n",
       "      <td>0</td>\n",
       "      <td>12170</td>\n",
       "      <td>NaN</td>\n",
       "      <td>N.A.</td>\n",
       "      <td>N.A.</td>\n",
       "      <td>66 %</td>\n",
       "      <td>0.00 %</td>\n",
       "    </tr>\n",
       "    <tr>\n",
       "      <th>232</th>\n",
       "      <td>Niue</td>\n",
       "      <td>1628</td>\n",
       "      <td>0.68 %</td>\n",
       "      <td>11</td>\n",
       "      <td>6</td>\n",
       "      <td>260</td>\n",
       "      <td>NaN</td>\n",
       "      <td>N.A.</td>\n",
       "      <td>N.A.</td>\n",
       "      <td>46 %</td>\n",
       "      <td>0.00 %</td>\n",
       "    </tr>\n",
       "    <tr>\n",
       "      <th>233</th>\n",
       "      <td>Tokelau</td>\n",
       "      <td>1360</td>\n",
       "      <td>1.27 %</td>\n",
       "      <td>17</td>\n",
       "      <td>136</td>\n",
       "      <td>10</td>\n",
       "      <td>NaN</td>\n",
       "      <td>N.A.</td>\n",
       "      <td>N.A.</td>\n",
       "      <td>0 %</td>\n",
       "      <td>0.00 %</td>\n",
       "    </tr>\n",
       "    <tr>\n",
       "      <th>234</th>\n",
       "      <td>Holy See</td>\n",
       "      <td>801</td>\n",
       "      <td>0.25 %</td>\n",
       "      <td>2</td>\n",
       "      <td>2003</td>\n",
       "      <td>0</td>\n",
       "      <td>NaN</td>\n",
       "      <td>N.A.</td>\n",
       "      <td>N.A.</td>\n",
       "      <td>N.A.</td>\n",
       "      <td>0.00 %</td>\n",
       "    </tr>\n",
       "  </tbody>\n",
       "</table>\n",
       "<p>235 rows × 11 columns</p>\n",
       "</div>"
      ],
      "text/plain": [
       "    Country (or dependency)  Population (2020) Yearly Change  Net Change  \\\n",
       "0                     China         1440297825        0.39 %     5540090   \n",
       "1                     India         1382345085        0.99 %    13586631   \n",
       "2             United States          331341050        0.59 %     1937734   \n",
       "3                 Indonesia          274021604        1.07 %     2898047   \n",
       "4                  Pakistan          221612785        2.00 %     4327022   \n",
       "..                      ...                ...           ...         ...   \n",
       "230              Montserrat               4993        0.06 %           3   \n",
       "231        Falkland Islands               3497        3.05 %         103   \n",
       "232                    Niue               1628        0.68 %          11   \n",
       "233                 Tokelau               1360        1.27 %          17   \n",
       "234                Holy See                801        0.25 %           2   \n",
       "\n",
       "     Density (P/Km²)  Land Area (Km²)  Migrants (net) Fert. Rate Med. Age  \\\n",
       "0                153          9388211       -348399.0        1.7       38   \n",
       "1                464          2973190       -532687.0        2.2       28   \n",
       "2                 36          9147420        954806.0        1.8       38   \n",
       "3                151          1811570        -98955.0        2.3       30   \n",
       "4                287           770880       -233379.0        3.6       23   \n",
       "..               ...              ...             ...        ...      ...   \n",
       "230               50              100             NaN       N.A.     N.A.   \n",
       "231                0            12170             NaN       N.A.     N.A.   \n",
       "232                6              260             NaN       N.A.     N.A.   \n",
       "233              136               10             NaN       N.A.     N.A.   \n",
       "234             2003                0             NaN       N.A.     N.A.   \n",
       "\n",
       "    Urban Pop % World Share  \n",
       "0          61 %     18.47 %  \n",
       "1          35 %     17.70 %  \n",
       "2          83 %      4.25 %  \n",
       "3          56 %      3.51 %  \n",
       "4          35 %      2.83 %  \n",
       "..          ...         ...  \n",
       "230        10 %      0.00 %  \n",
       "231        66 %      0.00 %  \n",
       "232        46 %      0.00 %  \n",
       "233         0 %      0.00 %  \n",
       "234        N.A.      0.00 %  \n",
       "\n",
       "[235 rows x 11 columns]"
      ]
     },
     "execution_count": 6,
     "metadata": {},
     "output_type": "execute_result"
    }
   ],
   "source": [
    "# Pandas dataframe is a datastructure in Pandas which is mutable. Pandas has support for heterogeneous data which is arranged\n",
    "# in rows & columns.\n",
    "\n",
    "import pandas as pd\n",
    "\n",
    "df = pd.read_csv('../population_by_country_2020.csv')\n",
    "df"
   ]
  },
  {
   "cell_type": "markdown",
   "id": "069a2f33",
   "metadata": {},
   "source": [
    "# What is Pandas series?"
   ]
  },
  {
   "cell_type": "code",
   "execution_count": 9,
   "id": "11a72a23",
   "metadata": {},
   "outputs": [
    {
     "name": "stdout",
     "output_type": "stream",
     "text": [
      "0       1\n",
      "1       2\n",
      "2    True\n",
      "3     Deb\n",
      "dtype: object\n",
      "<class 'pandas.core.series.Series'>\n"
     ]
    }
   ],
   "source": [
    "# It is an one-dimensional datastructure which may hold data of any data-type\n",
    "\n",
    "ser = pd.Series([1, 2, True, 'Deb'])\n",
    "print(ser)\n",
    "print(type(ser))"
   ]
  },
  {
   "cell_type": "markdown",
   "id": "d7ece1ed",
   "metadata": {},
   "source": [
    "# How can you insert an element at a given index in Python?"
   ]
  },
  {
   "cell_type": "code",
   "execution_count": 10,
   "id": "2002490c",
   "metadata": {},
   "outputs": [
    {
     "name": "stdout",
     "output_type": "stream",
     "text": [
      "[2, 3, 6, 8, 15, 19, 17]\n"
     ]
    }
   ],
   "source": [
    "#Using in-built insert function\n",
    "\n",
    "l = [2, 3, 6, 8, 19, 17]\n",
    "\n",
    "l.insert(4, 15) # Inserting 15 at index 4\n",
    "\n",
    "print(l)"
   ]
  },
  {
   "cell_type": "markdown",
   "id": "9daf6c6c",
   "metadata": {},
   "source": [
    "# How will you remove duplicate elements from a list?"
   ]
  },
  {
   "cell_type": "code",
   "execution_count": 11,
   "id": "a9303666",
   "metadata": {},
   "outputs": [
    {
     "name": "stdout",
     "output_type": "stream",
     "text": [
      "{4, 100, 7, 8, 9, 17, 19}\n"
     ]
    }
   ],
   "source": [
    "# push the list into the set function\n",
    "\n",
    "l1 = [ 4, 7, 8, 9, 4, 17, 19, 100, 9]\n",
    "\n",
    "print(set(l1))"
   ]
  },
  {
   "cell_type": "markdown",
   "id": "b18dc9d9",
   "metadata": {},
   "source": [
    "# What is the bytes() function?"
   ]
  },
  {
   "cell_type": "code",
   "execution_count": 17,
   "id": "c51cc672",
   "metadata": {},
   "outputs": [
    {
     "name": "stdout",
     "output_type": "stream",
     "text": [
      "b'Deb'\n",
      "bytearray(b'Deb')\n"
     ]
    }
   ],
   "source": [
    "# bytes() function is used for convert any object into bytes object which cannot be modified. However, bytearay returns an\n",
    "# object which can be returned further.\n",
    "\n",
    "name = 'Deb'\n",
    "\n",
    "print(bytes(name, 'UTF-8'))\n",
    "print(bytearray(name, 'UTF-8'))"
   ]
  },
  {
   "cell_type": "markdown",
   "id": "b9e357f7",
   "metadata": {},
   "source": [
    "# What is the ‘with statement’?"
   ]
  },
  {
   "cell_type": "code",
   "execution_count": 20,
   "id": "cd0bf09d",
   "metadata": {},
   "outputs": [
    {
     "name": "stdout",
     "output_type": "stream",
     "text": [
      "Deb here\n",
      "Deb here\n"
     ]
    }
   ],
   "source": [
    "\n",
    "#Without 'With' statement\n",
    "\n",
    "file = open('my_file.txt', 'r')\n",
    "content = file.read()\n",
    "print(content)\n",
    "file.close()\n",
    "\n",
    "#Using 'With' statement\n",
    "\n",
    "with open('my_file.txt', 'r') as file:\n",
    "    content = file.read()\n",
    "    print(content)\n",
    "    \n",
    "\n",
    "#In the second case, the code looks much more compact and we dont need to close file explicitly. Additionally with statements\n",
    "# handle any exceptions which might occur during file handling."
   ]
  },
  {
   "cell_type": "markdown",
   "id": "4952cd58",
   "metadata": {},
   "source": [
    "# What is frozenset?"
   ]
  },
  {
   "cell_type": "code",
   "execution_count": 26,
   "id": "12a816c1",
   "metadata": {},
   "outputs": [
    {
     "name": "stdout",
     "output_type": "stream",
     "text": [
      "[1, 2, 3, 4]\n",
      "[1, 2, 8, 4]\n",
      "frozenset({8, 1, 2, 4})\n"
     ]
    },
    {
     "ename": "TypeError",
     "evalue": "'frozenset' object does not support item assignment",
     "output_type": "error",
     "traceback": [
      "\u001b[1;31m---------------------------------------------------------------------------\u001b[0m",
      "\u001b[1;31mTypeError\u001b[0m                                 Traceback (most recent call last)",
      "\u001b[1;32m<ipython-input-26-02468aca421e>\u001b[0m in \u001b[0;36m<module>\u001b[1;34m\u001b[0m\n\u001b[0;32m      7\u001b[0m \u001b[0mfs\u001b[0m \u001b[1;33m=\u001b[0m \u001b[0mfrozenset\u001b[0m\u001b[1;33m(\u001b[0m\u001b[0ml2\u001b[0m\u001b[1;33m)\u001b[0m\u001b[1;33m\u001b[0m\u001b[1;33m\u001b[0m\u001b[0m\n\u001b[0;32m      8\u001b[0m \u001b[0mprint\u001b[0m\u001b[1;33m(\u001b[0m\u001b[0mfs\u001b[0m\u001b[1;33m)\u001b[0m\u001b[1;33m\u001b[0m\u001b[1;33m\u001b[0m\u001b[0m\n\u001b[1;32m----> 9\u001b[1;33m \u001b[0mfs\u001b[0m\u001b[1;33m[\u001b[0m\u001b[1;36m2\u001b[0m\u001b[1;33m]\u001b[0m \u001b[1;33m=\u001b[0m \u001b[1;36m5\u001b[0m\u001b[1;33m\u001b[0m\u001b[1;33m\u001b[0m\u001b[0m\n\u001b[0m",
      "\u001b[1;31mTypeError\u001b[0m: 'frozenset' object does not support item assignment"
     ]
    }
   ],
   "source": [
    "# frozenset() is a built-in function which takes an iterable object as input and makes it immutable.\n",
    "\n",
    "l2 = [i for i in range(1, 5)]\n",
    "print(l2)\n",
    "\n",
    "l2[2] = 8\n",
    "print(l2)\n",
    "\n",
    "fs = frozenset(l2)\n",
    "print(fs)\n",
    "fs[2] = 5"
   ]
  },
  {
   "cell_type": "markdown",
   "id": "9bdd8a29",
   "metadata": {},
   "source": [
    "# What is docstring in Python?"
   ]
  },
  {
   "cell_type": "code",
   "execution_count": 28,
   "id": "6b5c1087",
   "metadata": {},
   "outputs": [
    {
     "name": "stdout",
     "output_type": "stream",
     "text": [
      "4\n",
      "This function returns the square of a given number\n"
     ]
    }
   ],
   "source": [
    "# Python docstrings are the string literals that are enclosed in triple quotes that appear right after the definition of a\n",
    "# function, method, class or module. This is generally used to describe the functionality. It can be accessed __doc__ attribute.\n",
    "\n",
    "def square(num):\n",
    "    '''This function returns the square of a given number'''\n",
    "    return num ** 2\n",
    "\n",
    "\n",
    "print(square(2))\n",
    "print(square.__doc__)"
   ]
  },
  {
   "cell_type": "markdown",
   "id": "0cf8c300",
   "metadata": {},
   "source": [
    "# If you have a list like this -> [1,”a”,2,”b”,3,”c”]. How can you access the 2nd, 4th and 5th elements from this list?"
   ]
  },
  {
   "cell_type": "code",
   "execution_count": 30,
   "id": "b8ce2df5",
   "metadata": {},
   "outputs": [
    {
     "name": "stdout",
     "output_type": "stream",
     "text": [
      "a\n",
      "b\n",
      "3\n"
     ]
    }
   ],
   "source": [
    "idx = (1, 3, 4)\n",
    "l3 = [1, \"a\", 2, \"b\", 3, \"c\"]\n",
    "\n",
    "for i in idx:\n",
    "    print(l3[i])"
   ]
  },
  {
   "cell_type": "markdown",
   "id": "b0a09060",
   "metadata": {},
   "source": [
    "# If you have a list like this -> [“sparta”,True,3+4j,False]. How would you reverse the elements of this list?"
   ]
  },
  {
   "cell_type": "code",
   "execution_count": 35,
   "id": "345ead4d",
   "metadata": {},
   "outputs": [
    {
     "name": "stdout",
     "output_type": "stream",
     "text": [
      "[False, (3+4j), True, 'sparta']\n"
     ]
    }
   ],
   "source": [
    "a = [\"sparta\",True,3+4j,False]\n",
    "\n",
    "a.reverse() # if want to make the change in the actual object\n",
    "\n",
    "print(a)"
   ]
  },
  {
   "cell_type": "markdown",
   "id": "3119df52",
   "metadata": {},
   "source": [
    "# If you have dictionary like this – > fruit={“Apple”:10,”Orange”:20,”Banana”:30,”Guava”:40}. How would you update the value of ‘Apple’ from 10 to 100?"
   ]
  },
  {
   "cell_type": "code",
   "execution_count": 37,
   "id": "8dd20d23",
   "metadata": {},
   "outputs": [
    {
     "name": "stdout",
     "output_type": "stream",
     "text": [
      "{'Apple': 100, 'Orange': 20, 'Banana': 30, 'Guava': 40}\n"
     ]
    }
   ],
   "source": [
    "fruit={\"Apple\":10,\"Orange\":20,\"Banana\":30,\"Guava\":40}\n",
    "\n",
    "fruit['Apple'] = 100\n",
    "\n",
    "print(fruit)"
   ]
  },
  {
   "cell_type": "markdown",
   "id": "23fc41d7",
   "metadata": {},
   "source": [
    "# If you have two sets like this -> s1 = {1,2,3,4,5,6}, s2 = {5,6,7,8,9}. How would you find the common elements in these sets."
   ]
  },
  {
   "cell_type": "code",
   "execution_count": 38,
   "id": "c6263257",
   "metadata": {},
   "outputs": [
    {
     "data": {
      "text/plain": [
       "{5, 6}"
      ]
     },
     "execution_count": 38,
     "metadata": {},
     "output_type": "execute_result"
    }
   ],
   "source": [
    "s1 = {1,2,3,4,5,6}\n",
    "s2 = {5,6,7,8,9}\n",
    "\n",
    "s1.intersection(s2)"
   ]
  },
  {
   "cell_type": "markdown",
   "id": "4bcfe17c",
   "metadata": {},
   "source": [
    "# Print the following pattern:"
   ]
  },
  {
   "cell_type": "markdown",
   "id": "260a33f0",
   "metadata": {},
   "source": [
    "0\n",
    "0 1\n",
    "0 1 2\n",
    "0 1 2 3\n",
    "0 1 2 3 4"
   ]
  },
  {
   "cell_type": "code",
   "execution_count": 44,
   "id": "02eedc29",
   "metadata": {},
   "outputs": [
    {
     "name": "stdout",
     "output_type": "stream",
     "text": [
      "\n",
      "0 \n",
      "0 1 \n",
      "0 1 2 \n",
      "0 1 2 3 \n",
      "0 1 2 3 4 \n"
     ]
    }
   ],
   "source": [
    "for i in range(6):\n",
    "    for j in range(i):\n",
    "        print(j, end = ' ')\n",
    "    print()"
   ]
  },
  {
   "cell_type": "markdown",
   "id": "3376086a",
   "metadata": {},
   "source": [
    "# Print the following pattern"
   ]
  },
  {
   "cell_type": "markdown",
   "id": "ea92ea5c",
   "metadata": {},
   "source": [
    "#\n",
    "# #\n",
    "# # #\n",
    "# # # #\n",
    "# # # # #"
   ]
  },
  {
   "cell_type": "code",
   "execution_count": 45,
   "id": "8c0436b0",
   "metadata": {},
   "outputs": [
    {
     "name": "stdout",
     "output_type": "stream",
     "text": [
      "\n",
      "# \n",
      "# # \n",
      "# # # \n",
      "# # # # \n",
      "# # # # # \n"
     ]
    }
   ],
   "source": [
    "for i in range(6):\n",
    "    for j in range(i):\n",
    "        print('#', end = ' ')\n",
    "    print()"
   ]
  },
  {
   "cell_type": "markdown",
   "id": "463c9fb9",
   "metadata": {},
   "source": [
    "# Write a python program to print the following pattern"
   ]
  },
  {
   "cell_type": "markdown",
   "id": "05803231",
   "metadata": {},
   "source": [
    "1\n",
    "\n",
    "2 2\n",
    "\n",
    "3 3 3\n",
    "\n",
    "4 4 4 4\n",
    "\n",
    "5 5 5 5 5"
   ]
  },
  {
   "cell_type": "code",
   "execution_count": 46,
   "id": "0e373164",
   "metadata": {},
   "outputs": [
    {
     "name": "stdout",
     "output_type": "stream",
     "text": [
      "1 \n",
      "2 2 \n",
      "3 3 3 \n",
      "4 4 4 4 \n",
      "5 5 5 5 5 \n"
     ]
    }
   ],
   "source": [
    "for i in range(1, 6):\n",
    "    for j in range(i):\n",
    "        print(i, end = ' ')\n",
    "    print()"
   ]
  },
  {
   "cell_type": "markdown",
   "id": "3fedf77e",
   "metadata": {},
   "source": [
    "# Write a python program to check if the number given is a palindrome or not"
   ]
  },
  {
   "cell_type": "code",
   "execution_count": 51,
   "id": "adda99b4",
   "metadata": {},
   "outputs": [
    {
     "name": "stdout",
     "output_type": "stream",
     "text": [
      "Enter any number : 121\n",
      "Palindrome\n",
      "\n",
      "\n",
      "Palindrome\n"
     ]
    }
   ],
   "source": [
    "num = int(input('Enter any number : '))\n",
    "\n",
    "#Method 1\n",
    "if(num > 0):\n",
    "    if(str(num) == str(num)[::-1]):\n",
    "        print('Palindrome')\n",
    "    else:\n",
    "        print('Not Palindrome')\n",
    "\n",
    "else:\n",
    "    print('Not a valid number')\n",
    "    \n",
    "\n",
    "print('\\n')\n",
    "\n",
    "#Method 2\n",
    "\n",
    "rev =  0\n",
    "temp = num\n",
    "\n",
    "while(num > 0):\n",
    "    dig = num % 10\n",
    "    rev = rev * 10 + dig\n",
    "    num = num // 10\n",
    "\n",
    "if (rev == temp):\n",
    "    print('Palindrome')\n",
    "else:\n",
    "    print('Not a Plaindrome')"
   ]
  }
 ],
 "metadata": {
  "kernelspec": {
   "display_name": "Python 3",
   "language": "python",
   "name": "python3"
  },
  "language_info": {
   "codemirror_mode": {
    "name": "ipython",
    "version": 3
   },
   "file_extension": ".py",
   "mimetype": "text/x-python",
   "name": "python",
   "nbconvert_exporter": "python",
   "pygments_lexer": "ipython3",
   "version": "3.8.8"
  }
 },
 "nbformat": 4,
 "nbformat_minor": 5
}
