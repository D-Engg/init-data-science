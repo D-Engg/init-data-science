{
 "cells": [
  {
   "cell_type": "code",
   "execution_count": 174,
   "id": "aad93a71",
   "metadata": {},
   "outputs": [],
   "source": [
    "import statistics\n",
    "import pandas as pd\n",
    "from scipy import stats"
   ]
  },
  {
   "cell_type": "markdown",
   "id": "08d064f3",
   "metadata": {},
   "source": [
    "# Problem 1"
   ]
  },
  {
   "cell_type": "code",
   "execution_count": 21,
   "id": "5479f96d",
   "metadata": {},
   "outputs": [
    {
     "name": "stdout",
     "output_type": "stream",
     "text": [
      "Mean for Philip: 19.2\n",
      "Mean for Matthew: 20.4\n",
      "\n",
      "\n",
      "Median for Philip: 20\n",
      "Median for Matthew: 25\n",
      "\n",
      "\n",
      "Mode for Philip: 20\n",
      "Mode for Matthew: 30\n",
      "\n",
      "\n",
      "Range for Philip: 6\n",
      "Range for Matthew: 35\n",
      "\n",
      "\n",
      "Standard Deviation for Philip: 2.14\n",
      "Standard Deviation for Matthew: 12.75\n"
     ]
    }
   ],
   "source": [
    "l1 = [15, 21, 20, 20, 20]\n",
    "l2 = [30, 25, 12, 35, 0]\n",
    "\n",
    "#a) Calculating Mean, Median, Mode & Range\n",
    "\n",
    "print('Mean for Philip: {}'.format(statistics.mean(l1)))\n",
    "print('Mean for Matthew: {}'.format(statistics.mean(l2)))\n",
    "\n",
    "print('\\n\\nMedian for Philip: {}'.format(statistics.median(l1)))\n",
    "print('Median for Matthew: {}'.format(statistics.median(l2)))\n",
    "\n",
    "print('\\n\\nMode for Philip: {}'.format(statistics.mode(l1)))\n",
    "print('Mode for Matthew: {}'.format(statistics.mode(l2)))\n",
    "\n",
    "print('\\n\\nRange for Philip: {}'.format(max(l1) - min(l1)))\n",
    "print('Range for Matthew: {}'.format(max(l2) - min(l2)))\n",
    "\n",
    "\n",
    "#b) Calculating consistensy\n",
    "\n",
    "print('\\n\\nStandard Deviation for Philip: {}'.format(round(statistics.pstdev(l1), 2)))\n",
    "print('Standard Deviation for Matthew: {}'.format(round(statistics.pstdev(l2), 2)))\n",
    "\n",
    "\n",
    "#Philip is more consistent"
   ]
  },
  {
   "cell_type": "markdown",
   "id": "e5ba83bd",
   "metadata": {},
   "source": [
    "# Problem 2"
   ]
  },
  {
   "cell_type": "code",
   "execution_count": 32,
   "id": "7f5da899",
   "metadata": {},
   "outputs": [
    {
     "name": "stdout",
     "output_type": "stream",
     "text": [
      "The mean of first 4 matches : 68 runs\n",
      "The median of first 4 matches : 68.5 runs\n",
      "\n",
      "\n",
      "Series mean : 68.4 runs\n",
      "Series median : 70 runs\n"
     ]
    }
   ],
   "source": [
    "runs = [65, 72, 58, 77]\n",
    "\n",
    "#a) Calculating mean and median for first 4 matches\n",
    "\n",
    "print('The mean of first 4 matches : {} runs'.format(statistics.mean(runs)))\n",
    "print('The median of first 4 matches : {} runs'.format(statistics.median(runs)))\n",
    "\n",
    "#b) calculating series mean score after fifth match(70)\n",
    "\n",
    "runs.append(70)\n",
    "print('\\n\\nSeries mean : {} runs'.format(statistics.mean(runs)))\n",
    "print('Series median : {} runs'.format(statistics.median(runs)))\n",
    "\n",
    "#Mean is incresed by 0.4 runs whereas median is now 70 runs."
   ]
  },
  {
   "cell_type": "markdown",
   "id": "e3c9d303",
   "metadata": {},
   "source": [
    "# Problem 3"
   ]
  },
  {
   "cell_type": "code",
   "execution_count": 30,
   "id": "bde46104",
   "metadata": {},
   "outputs": [
    {
     "name": "stdout",
     "output_type": "stream",
     "text": [
      "Mode : 8\n"
     ]
    }
   ],
   "source": [
    "nums = [8, 6, 2, 4, 6, 8, 10, 8]\n",
    "\n",
    "print(f'Mode : {statistics.mode(nums)}')"
   ]
  },
  {
   "cell_type": "markdown",
   "id": "e4991549",
   "metadata": {},
   "source": [
    "# Problem 4"
   ]
  },
  {
   "cell_type": "code",
   "execution_count": 44,
   "id": "a3b7f63c",
   "metadata": {},
   "outputs": [
    {
     "name": "stdout",
     "output_type": "stream",
     "text": [
      "Spread of the scores : 11\n",
      "\n",
      "25th Percentile : 6.5, 50th Percentile : 8.5, 75th Percentile : 9.5\n"
     ]
    }
   ],
   "source": [
    "scores = [11, 7.5, 8.5, 10, 10, 10.5, 5.5, 10, 9, 9.5, 5.25, 8, 6.5, 10.5, 8.75, 0, 6, 6, 6.75, 8.75, 0, 9.5, 7.5, 8.5, 7]\n",
    "\n",
    "#a) Calculating spread i.e., range which is (max - min)\n",
    "\n",
    "print('Spread of the scores : {}'.format(max(scores) - min(scores)))\n",
    "\n",
    "#b) calculating percentiles\n",
    "\n",
    "df = pd.DataFrame(scores, columns = ['Scores'])\n",
    "\n",
    "Q1 = df.quantile(0.25, interpolation = 'midpoint')\n",
    "Q2 = df.quantile(0.5, interpolation = 'midpoint')\n",
    "Q3 = df.quantile(0.75, interpolation = 'midpoint')\n",
    "\n",
    "print('\\n25th Percentile : {}, 50th Percentile : {}, 75th Percentile : {}'.format(Q1[0], Q2[0], Q3[0]))"
   ]
  },
  {
   "cell_type": "markdown",
   "id": "94553286",
   "metadata": {},
   "source": [
    "# Problem 5"
   ]
  },
  {
   "cell_type": "code",
   "execution_count": 178,
   "id": "b0171d42",
   "metadata": {},
   "outputs": [],
   "source": [
    "def binSearch(param):\n",
    "    \n",
    "    init = (0, 1)\n",
    "    idx = init\n",
    "    for i in range(len(param)):\n",
    "        head = abs(param[idx[0]] - param[idx[1]])\n",
    "        for j in range(i + 1, len(param)):\n",
    "            if(head > abs(param[i] - param[j])):\n",
    "                head = abs(param[i] - param[j])\n",
    "                idx = (i, j)\n",
    "    return idx\n",
    "\n",
    "\n",
    "\n",
    "def findClosestCity(rangelist = [], meanlist = [], stdlist = [], citylist = ['city1', 'city2', 'city3', 'city4', 'city5']):\n",
    "    \n",
    "    try:        \n",
    "        \n",
    "        if (len(rangelist) != 0 and len(rangelist) == len(citylist) ):\n",
    "            print('Range wise {} and {} are closest'.format(citylist[binSearch(rangelist)[0]], citylist[binSearch(rangelist)[1]]))\n",
    "        \n",
    "        if (len(meanlist) != 0 and len(meanlist) == len(citylist) ):\n",
    "            print('Mean wise {} and {} are closest'.format(citylist[binSearch(meanlist)[0]], citylist[binSearch(meanlist)[1]]))\n",
    "            \n",
    "        if (len(stdlist) != 0 and len(stdlist) == len(citylist) ):\n",
    "            print('Standard Deviation wise {} and {} are closest'.format(citylist[binSearch(stdlist)[0]], citylist[binSearch(stdlist)[1]]))        \n",
    "    \n",
    "    except Exception as e:\n",
    "        print('Some error occured ', e)"
   ]
  },
  {
   "cell_type": "code",
   "execution_count": 179,
   "id": "4afb73b3",
   "metadata": {},
   "outputs": [
    {
     "name": "stdout",
     "output_type": "stream",
     "text": [
      "Range wise city3 and city4 are closest\n",
      "Mean wise city2 and city5 are closest\n",
      "Standard Deviation wise city2 and city3 are closest\n"
     ]
    }
   ],
   "source": [
    "city1 = [29, 32, 36, 40, 43, 37, 36, 33, 32, 37, 31, 29]\n",
    "city2 = [20, 24, 31, 37, 40, 38, 37, 34, 34, 33, 28, 23]\n",
    "city3 = [23, 26, 32, 38, 41, 40, 35, 33, 35, 37, 30, 25]\n",
    "city4 = [20, 24, 29, 34, 37, 36, 32, 30, 33, 32, 27, 23]\n",
    "city5 = [19, 24, 29, 38, 43, 38, 33, 34, 34, 36, 29, 23]\n",
    "\n",
    "temprange = []\n",
    "tempmean = []\n",
    "tempstd = []\n",
    "citylist = ['city1', 'city2', 'city3', 'city4', 'city5']\n",
    "\n",
    "temprange.append(max(city1) - min(city1))\n",
    "temprange.append(max(city2) - min(city2))\n",
    "temprange.append(max(city3) - min(city3))\n",
    "temprange.append(max(city4) - min(city4))\n",
    "temprange.append(max(city5) - min(city5))\n",
    "\n",
    "tempmean.append(round(statistics.mean(city1), 2))\n",
    "tempmean.append(round(statistics.mean(city2), 2))\n",
    "tempmean.append(round(statistics.mean(city3), 2))\n",
    "tempmean.append(round(statistics.mean(city4), 2))\n",
    "tempmean.append(round(statistics.mean(city5), 2))\n",
    "\n",
    "tempstd.append(round(statistics.pstdev(city1), 2))\n",
    "tempstd.append(round(statistics.pstdev(city2), 2))\n",
    "tempstd.append(round(statistics.pstdev(city3), 2))\n",
    "tempstd.append(round(statistics.pstdev(city4), 2))\n",
    "tempstd.append(round(statistics.pstdev(city5), 2))\n",
    "\n",
    "\n",
    "\n",
    "findClosestCity(temprange, tempmean, tempstd)"
   ]
  },
  {
   "cell_type": "markdown",
   "id": "585bbc68",
   "metadata": {},
   "source": [
    "# Problem 6"
   ]
  },
  {
   "cell_type": "code",
   "execution_count": 175,
   "id": "82e406c7",
   "metadata": {},
   "outputs": [
    {
     "name": "stdout",
     "output_type": "stream",
     "text": [
      "[ 0.70493937  0.31761004  0.82113816 -1.92890002  0.08521245]\n"
     ]
    }
   ],
   "source": [
    "vec = [82, 72, 85, 14, 66]\n",
    "\n",
    "print(stats.zscore(vec))"
   ]
  },
  {
   "cell_type": "markdown",
   "id": "3bd79abb",
   "metadata": {},
   "source": [
    "# Problem 7"
   ]
  },
  {
   "cell_type": "code",
   "execution_count": 184,
   "id": "382c4cc5",
   "metadata": {},
   "outputs": [
    {
     "name": "stdout",
     "output_type": "stream",
     "text": [
      "B has done better than his personal records\n"
     ]
    }
   ],
   "source": [
    "zscore_A = (0.75 - 0.7)/0.2\n",
    "zscore_B = (0.55 - 0.4)/0.1\n",
    "\n",
    "if(zscore_A > zscore_B):\n",
    "    print('A has done better than his personal records')\n",
    "elif(zscore_A < zscore_B):\n",
    "    print('B has done better than his personal records')\n",
    "else:\n",
    "    print('Both have performed similar')"
   ]
  },
  {
   "cell_type": "code",
   "execution_count": null,
   "id": "678c6911",
   "metadata": {},
   "outputs": [],
   "source": []
  },
  {
   "cell_type": "code",
   "execution_count": null,
   "id": "ee662de5",
   "metadata": {},
   "outputs": [],
   "source": []
  }
 ],
 "metadata": {
  "kernelspec": {
   "display_name": "Python 3",
   "language": "python",
   "name": "python3"
  },
  "language_info": {
   "codemirror_mode": {
    "name": "ipython",
    "version": 3
   },
   "file_extension": ".py",
   "mimetype": "text/x-python",
   "name": "python",
   "nbconvert_exporter": "python",
   "pygments_lexer": "ipython3",
   "version": "3.8.8"
  }
 },
 "nbformat": 4,
 "nbformat_minor": 5
}
