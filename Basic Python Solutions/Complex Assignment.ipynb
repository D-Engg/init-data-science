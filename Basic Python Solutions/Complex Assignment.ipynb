{
 "cells": [
  {
   "cell_type": "code",
   "execution_count": 2,
   "id": "5e26611e",
   "metadata": {},
   "outputs": [
    {
     "name": "stdout",
     "output_type": "stream",
     "text": [
      "<class 'complex'>\n",
      "2276980636752\n"
     ]
    }
   ],
   "source": [
    "# Q. ​ Declare a complex number and store it in a variable.\n",
    "# Check the type and print the id of the same.\n",
    "\n",
    "imag_num = 5 + 10j\n",
    "\n",
    "print(type(imag_num))\n",
    "print(id(imag_num))"
   ]
  },
  {
   "cell_type": "code",
   "execution_count": 8,
   "id": "5706af0f",
   "metadata": {},
   "outputs": [
    {
     "name": "stdout",
     "output_type": "stream",
     "text": [
      "(17+28j)\n",
      "(-3-12j)\n",
      "(-90+220j)\n",
      "(0.46-0.12j)\n",
      "(534.0088343001269-502.6186068770578j)\n"
     ]
    }
   ],
   "source": [
    "# Q.​  ​ Arithmetic Operations on complex number\n",
    "# Take two different complex numbers.\n",
    "# Store them in two different variables. \n",
    "# Do below operations on them:-\n",
    "#    ​ Find sum of both numbers \n",
    "#    ​ Find difference between them\n",
    "#    ​ Find the product of both numbers. \n",
    "#    ​ Find value after dividing first num with second number\n",
    "#    ​ Find the result of the first num to the power of the second number.\n",
    "\n",
    "imag_num1 = 7 + 8j\n",
    "imag_num2 = 10 + 20j\n",
    "\n",
    "print(imag_num1 + imag_num2)\n",
    "print(imag_num1 - imag_num2)\n",
    "print(imag_num1 * imag_num2)\n",
    "print(imag_num1 / imag_num2)\n",
    "print(imag_num1 ** imag_num2)"
   ]
  },
  {
   "cell_type": "code",
   "execution_count": 10,
   "id": "15e0474c",
   "metadata": {},
   "outputs": [
    {
     "name": "stdout",
     "output_type": "stream",
     "text": [
      "2276984666704\n",
      "2276984664592\n"
     ]
    }
   ],
   "source": [
    "# Q.​  Comparison Operation not applicable between instance of complex\n",
    "# values.\n",
    "# Object reusability concept is not applicable on complex number \n",
    "\n",
    "imag_num3 = 8 + 7j\n",
    "imag_num4 = 1 + 3j\n",
    "\n",
    "#Ans: >, <, >=, <= are not supported between complex number instances.\n",
    "\n",
    "print(id(imag_num3))\n",
    "print(id(imag_num4))\n",
    "\n",
    "#Ans: complex numbers are not applicable for object reusability functionality."
   ]
  },
  {
   "cell_type": "code",
   "execution_count": 11,
   "id": "fc0eebf9",
   "metadata": {},
   "outputs": [
    {
     "name": "stdout",
     "output_type": "stream",
     "text": [
      "False\n",
      "True\n"
     ]
    }
   ],
   "source": [
    "# Q.​  ​ Equality Operator\n",
    "# Take two different complex numbers.\n",
    "# Store them in two different variables. \n",
    "# Equate them using equality operators (==, !=)\n",
    "# Observe the output(return type should be boolean) \n",
    "\n",
    "imag_num5 = 6 + 19j\n",
    "imag_num6 = 4 + 15j\n",
    "\n",
    "print(imag_num5 == imag_num6)\n",
    "print(imag_num5 != imag_num6)"
   ]
  },
  {
   "cell_type": "code",
   "execution_count": 15,
   "id": "3c332edf",
   "metadata": {},
   "outputs": [
    {
     "name": "stdout",
     "output_type": "stream",
     "text": [
      "(20+30j)\n",
      "0j\n",
      "0j\n",
      "0j\n",
      "(10+20j)\n",
      "(20+30j)\n",
      "(20+30j)\n",
      "0j\n",
      "False\n",
      "True\n"
     ]
    }
   ],
   "source": [
    "# Q.​  Logical operators\n",
    "# Observe the output of below code\n",
    "# Cross check the output manually \n",
    "\n",
    "# print​ (​ 10​ +​ 20j​  ​ and​  ​ 20​ +​ 30j​ )    #20+30j \n",
    "# #----------------------------------------->Output is 20+30j\n",
    " \n",
    "# print​ (​ 0​ +​ 0j​  ​ and​  ​ 20​ +​ 30j​ )      #0+0j\n",
    "# #----------------------------------------->Output is 0j\n",
    " \n",
    "# print​ (​ 20​ +​ 30j​  ​ and​  ​ 0​ +​ 0j​ )      #0+0j\n",
    "# #----------------------------------------->Output is 0j \n",
    "\n",
    "# print​ (​ 0​ +​ 0j​  ​ and​  ​ 0​ +​ 0j​ )        #0+0j \n",
    "# #----------------------------------------->Output is 0j\n",
    " \n",
    "# print​ (​ 10​ +​ 20j​  ​ or​  ​ 20​ +​ 30j​ )     #10+20j\n",
    "# #----------------------------------------->Output is 10+20j \n",
    "# print​ (​ 0​ +​ 0j​  ​ or​  ​ 20​ +​ 30j​ )       #20+30j\n",
    "# #----------------------------------------->Output is 20+30j \n",
    "\n",
    "# print​ (​ 20​ +​ 30j​  ​ or​  ​ 0​ +​ 0j​ )       #20+30j \n",
    "# #----------------------------------------->Output is 20+30j\n",
    " \n",
    "# print​ (​ 0​ +​ 0j​  ​ or​  ​ 0​ +​ 0j​ )         #0+0j\n",
    "# #----------------------------------------->Output is 0j \n",
    "\n",
    "# print​ (​ not​  ​ 10​ +​ 20j​ )           #False \n",
    "# #----------------------------------------->Output is False\n",
    " \n",
    "# print​ (​ not​  ​ 0​ +​ 0j​ )             #True\n",
    "# #----------------------------------------->Output is True \n",
    "\n",
    "print(10 + 20j and 20 + 30j)\n",
    "print(0 + 0j and 20 + 30j)\n",
    "print(20 + 30j and 0 + 0j)\n",
    "print(0 + 0j and 0 + 0j)\n",
    "\n",
    "#Ans: If A is false then (A and B) is A else B. That's the basis of the output for the above statements.\n",
    "\n",
    "print(10 + 20j or 20 + 30j)\n",
    "print(0 + 0j or 20 + 30j)\n",
    "print(20 + 30j or 0 + 0j)\n",
    "print(0 + 0j or 0 + 0j)\n",
    "\n",
    "#Ans: If A is true then (A or B) is A else B. That's the basis of the output for the above statements.\n",
    "\n",
    "print(not 10 + 20j)\n",
    "\n",
    "#Ans: 10 + 20j is true, not true means false.\n",
    "\n",
    "print(not 0 + 0j)\n",
    "\n",
    "#Ans: 0 + 0j is false, not false means true."
   ]
  },
  {
   "cell_type": "code",
   "execution_count": 16,
   "id": "c6d9eeee",
   "metadata": {},
   "outputs": [
    {
     "name": "stdout",
     "output_type": "stream",
     "text": [
      "False\n",
      "True\n"
     ]
    }
   ],
   "source": [
    "# Q.​  What is the output of the expression inside the print statement.\n",
    "# Cross check before running the program. \n",
    "# a = ​ 10​ +​ 20j\n",
    "# b = ​ 10​ +​ 20j \n",
    "# print​ (a ​ is​  b)       #False   #True or False?\n",
    "# print​ (a ​ is​  ​ not​  b)   #True   #True or False? \n",
    "\n",
    "a = 10 + 20j\n",
    "b = 10 + 20j\n",
    "\n",
    "print(a is b)\n",
    "print(a is not b)"
   ]
  },
  {
   "cell_type": "code",
   "execution_count": 18,
   "id": "01db5b72",
   "metadata": {},
   "outputs": [
    {
     "name": "stdout",
     "output_type": "stream",
     "text": [
      "False\n",
      "True\n",
      "True\n",
      "True\n",
      "True\n",
      "True\n"
     ]
    }
   ],
   "source": [
    "# Q.​  Membership operation\n",
    "# in, not in are two membership operators and it returns boolean value\n",
    "# print​ (​ '2.7'​  ​ in​  ​ 'Python2.7.8'​ )                      #True \n",
    "# print​ (​ 10​ +​ 20j​  ​ in​  [​ 10​ ,​ 10.20​ ,​ 10​ +​ 20j​ ,​ 'Python'​ ])        #True\n",
    "# print​ (​ 10​ +​ 20j​  ​ in​  (​ 10​ ,​ 10.20​ ,​ 10​ +​ 20j​ ,​ 'Python'​ ))        #True \n",
    "# print​ (​ 30​ +​ 40j​  ​ in​  {​ 1​ ,​ 20.30​ ,​ 30​ +​ 40j​ })                  #True\n",
    "# print​ (​ 30​ +​ 40j​  ​ in​  {​ 1​ :​ 100​ , ​ 2.3​ :​ 200​ , ​ 30​ +​ 40j​ :​ 300​ })      #True \n",
    "# print​ (​ 10​  ​ in​  ​ range​ (​ 20​ ))                             #True\n",
    "\n",
    "print('2.7' in 'Python')\n",
    "print(10 + 20j in [10, 10.20, 10 + 20j, 'Python'])\n",
    "print(10 + 20j in (10, 10.20, 10 + 20j, 'Python'))\n",
    "print(30 + 40j in {1, 20.30, 30 + 40j})\n",
    "print(30 + 40j in {1, 100, 2.3, 200, 30 + 40j, 300})\n",
    "print(10 in range(20))"
   ]
  },
  {
   "cell_type": "code",
   "execution_count": null,
   "id": "09ebce56",
   "metadata": {},
   "outputs": [],
   "source": []
  }
 ],
 "metadata": {
  "kernelspec": {
   "display_name": "Python 3",
   "language": "python",
   "name": "python3"
  },
  "language_info": {
   "codemirror_mode": {
    "name": "ipython",
    "version": 3
   },
   "file_extension": ".py",
   "mimetype": "text/x-python",
   "name": "python",
   "nbconvert_exporter": "python",
   "pygments_lexer": "ipython3",
   "version": "3.8.8"
  }
 },
 "nbformat": 4,
 "nbformat_minor": 5
}
