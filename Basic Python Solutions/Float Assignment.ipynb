{
 "cells": [
  {
   "cell_type": "code",
   "execution_count": 1,
   "id": "75d3399a",
   "metadata": {},
   "outputs": [
    {
     "name": "stdout",
     "output_type": "stream",
     "text": [
      "<class 'float'>\n",
      "2001410923344\n"
     ]
    }
   ],
   "source": [
    "# Q. ​ Declare a float value and store it in a variable.Check the type and print the id of the same. \n",
    "\n",
    "sample_float = 2.44\n",
    "\n",
    "print(type(sample_float))\n",
    "print(id(sample_float))"
   ]
  },
  {
   "cell_type": "code",
   "execution_count": 4,
   "id": "78369c24",
   "metadata": {},
   "outputs": [
    {
     "name": "stdout",
     "output_type": "stream",
     "text": [
      "7.047\n",
      "2.7269999999999994\n",
      "10.55592\n",
      "2.2624999999999997\n",
      "0.5669999999999993\n",
      "2.0\n",
      "30.784453790868092\n"
     ]
    }
   ],
   "source": [
    "# Q.​  ​ Arithmetic Operations on float\n",
    "# Take two different float values.\n",
    "# Store them in two different variables. \n",
    "# Do below operations on them:-\n",
    "#    ​ Find sum of both numbers \n",
    "#    ​ Find difference between them\n",
    "#    ​ Find the product of both numbers. \n",
    "#    ​ Find value after dividing first num with second number\n",
    "#    ​ Find the remainder after dividing first number with second number\n",
    "#    ​ Find the quotient after dividing first number with second number \n",
    "#    ​ Find the result of the first num to the power of the second number.\n",
    "\n",
    "num1 = 4.887\n",
    "num2 = 2.16\n",
    "\n",
    "print(num1 + num2)\n",
    "print(num1 - num2)\n",
    "print(num1 * num2)\n",
    "print(num1 / num2)\n",
    "print(num1 % num2)\n",
    "print(num1 // num2)\n",
    "print(num1 ** num2)"
   ]
  },
  {
   "cell_type": "code",
   "execution_count": 5,
   "id": "051124e9",
   "metadata": {},
   "outputs": [
    {
     "name": "stdout",
     "output_type": "stream",
     "text": [
      "True\n",
      "False\n",
      "True\n",
      "False\n"
     ]
    }
   ],
   "source": [
    "# Q.​  Comparison Operators on float\n",
    "# Take two different float values.\n",
    "# Store them in two different variables. \n",
    "# Do below operations on them:-\n",
    "#    Compare these two numbers with below operator:-\n",
    "#        Greater than, '>' \n",
    "#  Smaller than, '<'\n",
    "#  Greater than or equal to, '>=' \n",
    "#  Less than or equal to, '<='\n",
    "# Observe their output(return type should be boolean) \n",
    "\n",
    "num3 = 5.979\n",
    "num4 = 3.12\n",
    "\n",
    "print(num3 > num4)\n",
    "print(num3 < num4)\n",
    "print(num3 >= num4)\n",
    "print(num3 <= num4)"
   ]
  },
  {
   "cell_type": "code",
   "execution_count": 6,
   "id": "fe854e45",
   "metadata": {},
   "outputs": [
    {
     "name": "stdout",
     "output_type": "stream",
     "text": [
      "False\n",
      "True\n"
     ]
    }
   ],
   "source": [
    "# Q.​  ​ Equality Operator\n",
    "# Take two different float values.\n",
    "# Store them in two different variables. \n",
    "# Equate them using equality operators (==, !=)\n",
    "# Observe the output(return type should be boolean) \n",
    "\n",
    "num5 = 63.99\n",
    "num6 = -355.99\n",
    "\n",
    "print(num5 == num6)\n",
    "print(num5 != num6)"
   ]
  },
  {
   "cell_type": "code",
   "execution_count": 9,
   "id": "a6b193b3",
   "metadata": {},
   "outputs": [
    {
     "name": "stdout",
     "output_type": "stream",
     "text": [
      "20.3\n",
      "0.0\n",
      "0.0\n",
      "0.0\n",
      "10.2\n",
      "20.3\n",
      "20.3\n",
      "0.0\n",
      "False\n",
      "True\n"
     ]
    }
   ],
   "source": [
    "# Q.​  Logical operators\n",
    "# Observe the output of below code\n",
    "# Cross check the output manually \n",
    "\n",
    "# print​ (​ 10.20​  ​ and​  ​ 20.30​ )       #both are true and second value taken\n",
    "# >Output is 20.3\n",
    " \n",
    "# print​ (​ 0.0​  ​ and​  ​ 20.30​ )         #First is false so first valuetaken->Output is 0.0 \n",
    "# print​ (​ 20.30​  ​ and​  ​ 0.0​ )         #Goes to till second and second value isfalse so second is taken>Output is 0.0 \n",
    "\n",
    "# print​ (​ 0.0​  ​ and​  ​ 0.0​ )           #First is false so first value is \n",
    "# taken->Output is 0.0\n",
    " \n",
    "# print​ (​ 10.20​  ​ or​  ​ 20.30​ )        #First is True so first value is\n",
    "# taken>Output is 10.2 \n",
    "\n",
    "# print​ (​ 0.0​  ​ or​  ​ 20.30​ )          #Goes to till second and second is true\n",
    "# second value is taken->Output is 20.3\n",
    " \n",
    "# print​ (​ 20.30​  ​ or​  ​ 0.0​ )          #First is True so first value is\n",
    "# taken->Output is 20.3 \n",
    "\n",
    "# print​ (​ 0.0​  ​ or​  ​ 0.0​ )            #Goes to till second and second is also\n",
    "# false and second value is taken>Output is 0.0\n",
    " \n",
    "# print​ (​ not​  ​ 10.20​ )             #-Not of true is false->Output is False \n",
    "# print​ (​ not​  ​ 0.0​ )               #Not of false is True>Output is True\n",
    "\n",
    "\n",
    "print(10.20 and 20.30)\n",
    "print(0.0 and 20.30)\n",
    "print(20.30 and 0.0)\n",
    "print(0.0 and 0.0)\n",
    "\n",
    "#Ans: If A is false then (A and B) is A else B. That's the basis of the output for the above statements.\n",
    "\n",
    "print(10.20 or 20.30)\n",
    "print(0.0 or 20.30)\n",
    "print(20.30 or 0.0)\n",
    "print(0.0 or 0.0)\n",
    "\n",
    "#Ans: If A is true then (A or B) is A else B. That's the basis of the output for the above statements.\n",
    "\n",
    "print(not 10.20)\n",
    "#Ans: 10.20 is true, not true means false\n",
    "\n",
    "print(not 0.0)\n",
    "#Ans: 0.0 is false, not false means true"
   ]
  },
  {
   "cell_type": "code",
   "execution_count": 20,
   "id": "c6d800c8",
   "metadata": {},
   "outputs": [
    {
     "name": "stdout",
     "output_type": "stream",
     "text": [
      "False\n",
      "True\n",
      "2001433617392\n",
      "2001433617936\n"
     ]
    }
   ],
   "source": [
    "# Q.​  What is the output of expression inside print statement. Cross checkbefore running the program.\n",
    "# a = ​ 10.20 \n",
    "# b - ​ 10.20\n",
    "# print​ (a ​ is​  b)          #True or False? True 10.20<256\n",
    "# print​ (a ​ is​  ​ not​  b)      #True or False? False \n",
    "# Why the Id of float values are different when the same value is\n",
    "# assigned to two different variables \n",
    "# ex: a = 10.5 b=10.5. but id will be same if I assign the variable\n",
    "# having float i.e. a=c then both a and c's Id are same \n",
    "\n",
    "#Ans: print statement prints the output of the expression onto a stream or sys.stdout stream by default\n",
    "\n",
    "a = 10.20\n",
    "b = -10.20\n",
    "\n",
    "print(a is b)\n",
    "print(a is not b)\n",
    "\n",
    "print(id(a))\n",
    "print(id(b))\n",
    "\n",
    "#Ans: The id of these float variables are diferent because object reusability is not applicable for float datatype.\n"
   ]
  },
  {
   "cell_type": "code",
   "execution_count": 22,
   "id": "5d3ced1d",
   "metadata": {},
   "outputs": [
    {
     "name": "stdout",
     "output_type": "stream",
     "text": [
      "False\n",
      "True\n",
      "2001433616784\n",
      "2001433617936\n",
      "2001433616784\n"
     ]
    }
   ],
   "source": [
    "# Q.​  Bitwise operation is not applicable between instances of float.Why the Id of float values are different when the same value isassigned to two different variables \n",
    "# ex: a = 10.5 b=10.5. but id will be same if I assign the variablehaving float i.e. a=c then both a and c's Id are same \n",
    "# Object reusability concept is not applicable on float values.\n",
    "\n",
    "a = 10.5\n",
    "b = 10.5\n",
    "\n",
    "print(a is b)\n",
    "print(a is not b)\n",
    "\n",
    "print(id(a))\n",
    "print(id(b))\n",
    "\n",
    "#Ans: The id of these float variables are diferent because object reusability is not applicable for float datatype.\n",
    "\n",
    "c = a\n",
    "\n",
    "print(id(c))\n",
    "\n",
    "#id of c is same as a because both are pointing to the same memory location."
   ]
  },
  {
   "cell_type": "code",
   "execution_count": 19,
   "id": "74cb4d8c",
   "metadata": {},
   "outputs": [
    {
     "name": "stdout",
     "output_type": "stream",
     "text": [
      "True\n",
      "True\n",
      "True\n",
      "True\n",
      "True\n",
      "True\n"
     ]
    }
   ],
   "source": [
    "# Q.​  Membership operation\n",
    "# in, not in are two membership operators and it returns boolean value\n",
    "\n",
    "# print​ (​ '2.7'​  ​ in​  ​ 'Python2.7.8'​ )              #True \n",
    "# print​ (​ 10.20​  ​ in​  [​ 10​ ,​ 10.20​ ,​ 10​ +​ 20j​ ,​ 'Python'​ ]) #True\n",
    "# print​ (​ 10.20​  ​ in​  (​ 10​ ,​ 10.20​ ,​ 10​ +​ 20j​ ,​ 'Python'​ )) # True\n",
    "# print​ (​ 20.30​  ​ in​  {​ 1​ ,​ 20.30​ ,​ 30​ +​ 40j​ })           # True \n",
    "# print​ (​ 2.3​  ​ in​  {​ 1​ :​ 100​ , ​ 2.3​ :​ 200​ , ​ 30​ +​ 40j​ :​ 300​ }) # True\n",
    "# print​ (​ 10​  ​ in​  ​ range​ (​ 20​ ))                     # True \n",
    "\n",
    "\n",
    "print('2.7' in 'Python2.7.8')\n",
    "print(10.20 in [10, 10.20, 10+20j, 'Python'])\n",
    "print(10.20 in (10, 10.20, 10+20j, 'Python'))\n",
    "print(20.30 in {1, 20.30, 30+40j})\n",
    "print(2.3 in {1:100, 2.3:200, 30+40j:300})\n",
    "print(10 in range(20))"
   ]
  },
  {
   "cell_type": "code",
   "execution_count": null,
   "id": "7d0b5f15",
   "metadata": {},
   "outputs": [],
   "source": []
  }
 ],
 "metadata": {
  "kernelspec": {
   "display_name": "Python 3",
   "language": "python",
   "name": "python3"
  },
  "language_info": {
   "codemirror_mode": {
    "name": "ipython",
    "version": 3
   },
   "file_extension": ".py",
   "mimetype": "text/x-python",
   "name": "python",
   "nbconvert_exporter": "python",
   "pygments_lexer": "ipython3",
   "version": "3.8.8"
  }
 },
 "nbformat": 4,
 "nbformat_minor": 5
}
