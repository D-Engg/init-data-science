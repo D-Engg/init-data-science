{
 "cells": [
  {
   "cell_type": "markdown",
   "metadata": {
    "id": "wNRNTbrsc53d"
   },
   "source": [
    "# If - elif - else statement"
   ]
  },
  {
   "cell_type": "code",
   "execution_count": 6,
   "metadata": {
    "id": "MiPfTnBycxNa"
   },
   "outputs": [
    {
     "name": "stdout",
     "output_type": "stream",
     "text": [
      "Enter a num between (0 - 9): 9\n",
      "Nine\n"
     ]
    }
   ],
   "source": [
    "#W. A P. which takes one number from 0 to 9 from the user and prints it in the word. And if the word is not from 0 to 9 then\n",
    "#it should print that number is outside of the range and program should exit.\n",
    "# For exapmple:- \n",
    "# input = 1\n",
    "# output = one\n",
    "\n",
    "inp_num = eval(input('Enter a num between (0 - 9): '))\n",
    "\n",
    "if inp_num == 0:\n",
    "    print('Zero')\n",
    "elif inp_num == 1:\n",
    "    print('One')\n",
    "elif inp_num == 2:\n",
    "    print('two')\n",
    "elif inp_num == 3:\n",
    "    print('Three')\n",
    "elif inp_num == 4:\n",
    "    print('Four')\n",
    "elif inp_num == 5:\n",
    "    print('Five')\n",
    "elif inp_num == 6:\n",
    "    print('Six')\n",
    "elif inp_num == 7:\n",
    "    print('Seven')\n",
    "elif inp_num == 8:\n",
    "    print('Eight')\n",
    "elif inp_num == 9:\n",
    "    print('Nine')\n",
    "else:\n",
    "    print('Number is outside of the range')\n"
   ]
  },
  {
   "cell_type": "code",
   "execution_count": 18,
   "metadata": {
    "id": "vEMNOv9zdA39"
   },
   "outputs": [
    {
     "name": "stdout",
     "output_type": "stream",
     "text": [
      "Enter 1st number: 4\n",
      "Enter 1st number: 2\n",
      "Please select any one operation from the below: \n",
      "* To add enter 1\n",
      "* To subtract enter 2\n",
      "* To multiple enter 3\n",
      "* To divide enter 4\n",
      "* To divide and find quotient 5\n",
      "* To divide and find remainder enter 6\n",
      "* To divide and find num1 to the power num2 enter 7\n",
      "* To come out of the program enter 8\n",
      " \n",
      "7\n",
      "16\n"
     ]
    }
   ],
   "source": [
    "#W. A P. to implement calculator but the operation to be done and two numbers will be taken as input from user:-\n",
    "#Operation console should show below:-\n",
    "#     Please select any one operation from below:-\n",
    "#         * To add enter 1\n",
    "#         * to subtract enter 2\n",
    "#         * To multiply enter 3\n",
    "#         * To divide enter 4\n",
    "#         * To divide and find quotient enter 5\n",
    "#         * To divide and find remainder enter 6\n",
    "#         * To divide and find num1 to the power of num2 enter 7\n",
    "#         * To Come out of the program enter 8\n",
    "\n",
    "\n",
    "\n",
    "num1 = eval(input('Enter 1st number: '))\n",
    "num2 = eval(input('Enter 1st number: '))\n",
    "ops = eval(input('''Please select any one operation from the below: \n",
    "* To add enter 1\n",
    "* To subtract enter 2\n",
    "* To multiple enter 3\n",
    "* To divide enter 4\n",
    "* To divide and find quotient 5\n",
    "* To divide and find remainder enter 6\n",
    "* To divide and find num1 to the power num2 enter 7\n",
    "* To come out of the program enter 8\\n \\n'''))\n",
    "\n",
    "if ops == 1:\n",
    "    print(num1 + num2)\n",
    "elif ops == 2:\n",
    "    print(num1 - num2)\n",
    "elif ops == 3:\n",
    "    print(num1 * num2)\n",
    "elif ops == 4:\n",
    "    print(num1 / num2)\n",
    "elif ops == 5:\n",
    "    print(num1 // num2)\n",
    "elif ops == 6:\n",
    "    print(num1 % num2)\n",
    "elif ops == 7:\n",
    "    print(num1 ** num2)\n",
    "elif ops == 8:\n",
    "    print('Program aborted')\n",
    "else:\n",
    "    print('Invalid operation')\n",
    "\n"
   ]
  },
  {
   "cell_type": "code",
   "execution_count": 23,
   "metadata": {
    "id": "1e2gwYLqdC1s"
   },
   "outputs": [
    {
     "name": "stdout",
     "output_type": "stream",
     "text": [
      "Enter the year to be checked: 1600\n",
      "It is a leap year\n"
     ]
    }
   ],
   "source": [
    "#W A P to check whether a year entered by user is an leap year or not?\n",
    "#Check with below input:-\n",
    "    #leap year:- 2012, 1968, 2004, 1200, 1600,2400\n",
    "    #Non-lear year:- 1971, 2006, 1700,1800,1900\n",
    "    \n",
    "\n",
    "year = eval(input('Enter the year to be checked: '))\n",
    "\n",
    "print('It is a leap year' if year%4 == 0 else 'It is not a leap year')"
   ]
  },
  {
   "cell_type": "code",
   "execution_count": 27,
   "metadata": {
    "id": "_tpXv1EtdEre"
   },
   "outputs": [
    {
     "name": "stdout",
     "output_type": "stream",
     "text": [
      "Enter any number: 47\n",
      "It is an odd number\n"
     ]
    }
   ],
   "source": [
    "#W A P which takes one number from the user and checks whether it is an even or odd number?, If it even then prints number is \n",
    "#even number else prints that number is odd number.\n",
    "\n",
    "num = eval(input('Enter any number: '))\n",
    "\n",
    "print('It is an even number' if(num == 0 or num%2 == 0) else 'It is an odd number')"
   ]
  },
  {
   "cell_type": "code",
   "execution_count": 36,
   "metadata": {
    "id": "Q1HumymCdG6i"
   },
   "outputs": [
    {
     "name": "stdout",
     "output_type": "stream",
     "text": [
      "Using if-else\n",
      "\n",
      "\n",
      "Enter 1st number: 30\n",
      "Enter 2nd number: 20\n",
      "num1 is greater than num2\n",
      "\n",
      "\n",
      "Using ternary operator\n",
      "\n",
      "\n",
      "num1 is greater than num2\n"
     ]
    }
   ],
   "source": [
    "#W A P which takes two numbers from the user and prints below output:-\n",
    "#     1. num1 is greater than num2 if num1 is greater than num2\n",
    "#     2. num1 is smaller than num2 if num1 is smaller than num2\n",
    "#     3. num1 is equal to num2 if num1 and num2 are equal\n",
    "\n",
    "#Note:- 1. Do this problem using if - else \n",
    "#       2. Do this using ternary operator\n",
    "\n",
    "\n",
    "print('Using if-else\\n\\n')\n",
    "\n",
    "num1 = eval(input('Enter 1st number: '))\n",
    "num2 = eval(input('Enter 2nd number: '))\n",
    "\n",
    "\n",
    "if num1 > num2:\n",
    "    print('num1 is greater than num2')\n",
    "else:\n",
    "    if num1 < num2:\n",
    "        print('num1 is smaller than sum2')\n",
    "    else:\n",
    "        print('num1 is equal to num2')\n",
    "        \n",
    "        \n",
    "print('\\n\\nUsing ternary operator\\n\\n')\n",
    "\n",
    "print('num1 is greater than num2' if num1 > num2 else 'num1 is smaller than num2' if num1 < num2 else 'num1 is equal to num2')"
   ]
  },
  {
   "cell_type": "code",
   "execution_count": 44,
   "metadata": {
    "id": "LR6TVB-DdOPf"
   },
   "outputs": [
    {
     "name": "stdout",
     "output_type": "stream",
     "text": [
      "Using if-elif-else\n",
      "\n",
      "\n",
      "Enter 1st number: 30\n",
      "Enter 2nd number: 40\n",
      "Enter 3rd number: 50\n",
      "num3 is greater than num1 and num2\n",
      "\n",
      "\n",
      "Using ternary operator\n",
      "\n",
      "\n",
      "num3 is greater than num1 and num2\n"
     ]
    }
   ],
   "source": [
    "#W A P which takes three numbers from the user and prints below output:-\n",
    "#     1. num1 is greater than num2 and num3 if num1 is greater than num2 and num3\n",
    "#     2. num2 is greater than num1 and num3 if num2 is greater than num1 and num3\n",
    "#     3. num3 is greater than num1 and num2 if num3 is greater than num1 and num2\n",
    "\n",
    "#Note:- 1. Do this problem using if - elif - else \n",
    "#       2. Do this using ternary operator\n",
    "\n",
    "# a = a if a>b else b\n",
    "\n",
    "\n",
    "print('Using if-elif-else\\n\\n')\n",
    "\n",
    "num1 = eval(input('Enter 1st number: '))\n",
    "num2 = eval(input('Enter 2nd number: '))\n",
    "num3 = eval(input('Enter 3rd number: '))\n",
    "\n",
    "if(num1 > num2) and (num1 > num3):\n",
    "    print('num1 is greater than num2 and num3')\n",
    "elif(num2 > num1) and (num2 > num3):\n",
    "    print('num2 is greater than num1 and num3')\n",
    "elif(num3 > num1) and (num3 > num2):\n",
    "    print('num3 is greater than num1 and num2')\n",
    "else:\n",
    "    print('num1 num2 and num3 are equal')\n",
    "\n",
    "\n",
    "print('\\n\\nUsing ternary operator\\n\\n')\n",
    "print('num1 is greater than num2 and num3' if ((num1 > num2) and (num1 > num3)) else 'num2 is greater than num1 and num3' \\\n",
    "      if((num2 > num1) and (num2 > num3)) else 'num3 is greater than num1 and num2' \\\n",
    "      if((num3 > num1) and (num3 > num2)) else 'num1 num2 and num3 are equal')"
   ]
  },
  {
   "cell_type": "markdown",
   "metadata": {
    "id": "IoOLQMUGdSox"
   },
   "source": [
    "# Loops - for loop, while loop"
   ]
  },
  {
   "cell_type": "code",
   "execution_count": 48,
   "metadata": {
    "id": "9K23Uld8dQfA"
   },
   "outputs": [
    {
     "name": "stdout",
     "output_type": "stream",
     "text": [
      "Length of my_str: 23\n"
     ]
    }
   ],
   "source": [
    "#Write a Python program to find the length of the my_str using loop:-\n",
    "\n",
    "#Input:- 'Write a Python program to find the length of the my_str'\n",
    "#Output:- 55\n",
    "\n",
    "counter = 0\n",
    "my_str = 'Learnbay Python Classes'\n",
    "\n",
    "for chars in my_str:\n",
    "    counter += 1\n",
    "\n",
    "print('Length of my_str: {}'.format(counter))"
   ]
  },
  {
   "cell_type": "code",
   "execution_count": 49,
   "metadata": {
    "id": "bp6AcqTsdYxy"
   },
   "outputs": [
    {
     "name": "stdout",
     "output_type": "stream",
     "text": [
      "p appeard 9 times in the given string\n"
     ]
    }
   ],
   "source": [
    "#Write a Python program to find the total number of times letter 'p' is appeared in the below string using loop:-\n",
    "    \n",
    "#Input:- 'peter piper picked a peck of pickled peppers.\\n'\n",
    "#Output:- 9\n",
    "\n",
    "inp_str = 'peter piper picked a peck of pickled peppers.\\n'\n",
    "counter = 0\n",
    "for chars in inp_str:\n",
    "    if(chars == 'p'):\n",
    "        counter += 1\n",
    "\n",
    "print('p appeard {} times in the given string'.format(counter))"
   ]
  },
  {
   "cell_type": "code",
   "execution_count": 50,
   "metadata": {
    "id": "xvxSBhTJdav1"
   },
   "outputs": [
    {
     "name": "stdout",
     "output_type": "stream",
     "text": [
      "0\n",
      "6\n",
      "8\n",
      "12\n",
      "21\n",
      "29\n",
      "37\n",
      "39\n",
      "40\n"
     ]
    }
   ],
   "source": [
    "#Write a Python Program, to print all the indexes of all occurences of letter 'p' appeared in the string using loop:-\n",
    "    \n",
    "#Input:- 'peter piper picked a peck of pickled peppers.'\n",
    "#Output:- \n",
    "# 0\n",
    "# 6\n",
    "# 8\n",
    "# 12\n",
    "# 21\n",
    "# 29\n",
    "# 37\n",
    "# 39\n",
    "# 40\n",
    "\n",
    "inp_str2 = 'peter piper picked a peck of pickled peppers.'\n",
    "\n",
    "for i in range(len(inp_str2)):\n",
    "    if inp_str2[i] == 'p':\n",
    "        print(i)\n"
   ]
  },
  {
   "cell_type": "code",
   "execution_count": 108,
   "metadata": {
    "id": "79L_feMadbmw"
   },
   "outputs": [
    {
     "name": "stdout",
     "output_type": "stream",
     "text": [
      "['peter', 'piper', 'picked', 'a', 'peck', 'of', 'pickled', 'peppers']\n"
     ]
    }
   ],
   "source": [
    "#Write a python program to find below output using loop:-\n",
    "\n",
    "#Input:- 'peter piper picked a peck of pickled peppers.'\n",
    "#Output:- ['peter', 'piper', 'picked', 'a', 'peck', 'of', 'pickled', 'peppers']\n",
    "\n",
    "inp_str3 = 'peter piper picked a peck of pickled peppers.'\n",
    "out_list = list()\n",
    "head, tail = 0, 0\n",
    "\n",
    "for i in range(len(inp_str3)):\n",
    "    if inp_str3[i] == ' ' or i == len(inp_str3) -1:\n",
    "        tail = i\n",
    "        out_list.append(inp_str3[head : tail])\n",
    "        head = i+1\n",
    "\n",
    "print(out_list)\n",
    "        "
   ]
  },
  {
   "cell_type": "code",
   "execution_count": 76,
   "metadata": {
    "id": "vzs5AJ53deVS",
    "scrolled": true
   },
   "outputs": [
    {
     "name": "stdout",
     "output_type": "stream",
     "text": [
      "peppers pickled of peck a picked piper peter"
     ]
    }
   ],
   "source": [
    "#Write a python program to find below output using loop:-\n",
    "\n",
    "#Input:- 'peter piper picked a peck of pickled peppers.'\n",
    "#Output:- 'peppers pickled of peck a picked piper peter'\n",
    "\n",
    "inp_str4 = 'peter piper picked a peck of pickled peppers.'\n",
    "\n",
    "head = len(inp_str3) - 1\n",
    "tail = head\n",
    "\n",
    "for i in range(len(inp_str3) - 1, -1, -1):\n",
    "    if inp_str3[i] == ' ' or i == 0:\n",
    "        head = i + 1 if (inp_str3[i] == ' ') else i\n",
    "        conchar = ' ' if inp_str3[i] == ' ' else ''\n",
    "        print(inp_str3[head : tail]+conchar, end = '')\n",
    "        tail = head - 1\n"
   ]
  },
  {
   "cell_type": "code",
   "execution_count": 77,
   "metadata": {
    "id": "i-HP7DrCdhwS"
   },
   "outputs": [
    {
     "name": "stdout",
     "output_type": "stream",
     "text": [
      ".sreppep delkcip fo kcep a dekcip repip retep"
     ]
    }
   ],
   "source": [
    "#Write a python program to find below output using loop:-\n",
    "\n",
    "#Input:- 'peter piper picked a peck of pickled peppers.'\n",
    "#Output:- '.sreppep delkcip fo kcep a dekcip repip retep'\n",
    "\n",
    "inp_str5 = 'peter piper picked a peck of pickled peppers.'\n",
    "\n",
    "for i in range(len(inp_str5) - 1, -1, -1):\n",
    "    print(inp_str5[i], end = '')"
   ]
  },
  {
   "cell_type": "code",
   "execution_count": 98,
   "metadata": {
    "id": "3rt6p0ytdkq0"
   },
   "outputs": [
    {
     "name": "stdout",
     "output_type": "stream",
     "text": [
      "retep repip dekcip a kcep fo delkcip sreppep"
     ]
    }
   ],
   "source": [
    "#Write a python program to find below output using loop:-\n",
    "\n",
    "#Input:- 'peter piper picked a peck of pickled peppers.'\n",
    "#Output:- 'retep repip dekcip a kcep fo delkcip sreppep'\n",
    "\n",
    "inp_str6 = 'peter piper picked a peck of pickled peppers.'\n",
    "\n",
    "head, tail = 0, 0\n",
    "\n",
    "for i in range(len(inp_str6)):\n",
    "    if inp_str6[i] == ' ' or i == len(inp_str6) -1:\n",
    "        tail = i\n",
    "        for j in range(len(inp_str6[head : tail]) -1, -1, -1):\n",
    "            sub = inp_str6[head : tail]\n",
    "            print(sub[j], end = '')\n",
    "        head = i+1\n",
    "        conchar = ' ' if inp_str6[i] == ' ' else ''\n",
    "        print(conchar, end = '')"
   ]
  },
  {
   "cell_type": "code",
   "execution_count": 107,
   "metadata": {
    "id": "HdlAWgT2dnKO"
   },
   "outputs": [
    {
     "name": "stdout",
     "output_type": "stream",
     "text": [
      "Peter Piper Picked A Peck Of Pickled Peppers"
     ]
    }
   ],
   "source": [
    "#Write a python program to find below output using loop:-\n",
    "\n",
    "#Input:- 'peter piper picked a peck of pickled peppers.'\n",
    "#Output:- 'Peter Piper Picked A Peck Of Pickled Peppers'\n",
    "\n",
    "\n",
    "inp_str7 = 'peter piper picked a peck of pickled peppers.'\n",
    "head, tail = 0, 0\n",
    "for i in range(len(inp_str7)):\n",
    "    if inp_str7[i] == ' ' or i == len(inp_str7)-1:\n",
    "        tail = i\n",
    "        conchar = ' ' if inp_str7[i] == ' ' else ''\n",
    "        print(inp_str7[head : tail].capitalize(), end = conchar)\n",
    "        head = i + 1\n",
    "        "
   ]
  },
  {
   "cell_type": "code",
   "execution_count": 120,
   "metadata": {
    "id": "OthUuacodrNl"
   },
   "outputs": [
    {
     "name": "stdout",
     "output_type": "stream",
     "text": [
      "Peter piper picked a peck of pickled peppers"
     ]
    }
   ],
   "source": [
    "#Write a python program to find below output using loop:-\n",
    "\n",
    "#Input:- 'Peter Piper Picked A Peck Of Pickled Peppers.'\n",
    "#Output:- 'Peter piper picked a peck of pickled peppers'\n",
    "\n",
    "inp_str8 = 'Peter Piper Picked A Peck Of Pickled Peppers.'\n",
    "\n",
    "for i in range(len(inp_str8)-1):\n",
    "    print(inp_str8[i] if i == 0 else inp_str8[i].lower(), end = '')"
   ]
  },
  {
   "cell_type": "code",
   "execution_count": 124,
   "metadata": {
    "colab": {
     "base_uri": "https://localhost:8080/",
     "height": 34
    },
    "id": "scmDJE-ldsI9",
    "outputId": "4b1d1979-9f4a-4bc6-c505-b88b1bbd4d5d"
   },
   "outputs": [
    {
     "name": "stdout",
     "output_type": "stream",
     "text": [
      "29\n"
     ]
    }
   ],
   "source": [
    "#Write a python program to implement index method using loop. If sub_str is found in my_str then it will print the index\n",
    "# of first occurrence of first character of matching string in my_str:-\n",
    "\n",
    "#Input:- my_str = 'Peter Piper Picked A Peck Of Pickled Peppers.', sub_str = 'Pickl'\n",
    "#Output:- 29\n",
    "\n",
    "my_str = 'Peter Piper Picked A Peck Of Pickled Peppers.'\n",
    "sub_str = 'Pickl'\n",
    "\n",
    "for i in range(len(my_str)):\n",
    "    if my_str[i : i + len(sub_str)] == sub_str:\n",
    "        print(i)\n",
    "        break\n",
    "    "
   ]
  },
  {
   "cell_type": "code",
   "execution_count": 130,
   "metadata": {
    "id": "Kq_fwdb_dvYE"
   },
   "outputs": [
    {
     "name": "stdout",
     "output_type": "stream",
     "text": [
      "Peter Piper Picked A Packing Pickled Peppers.\n"
     ]
    }
   ],
   "source": [
    "#Write a python program to implement replace method using loop. If sub_str is found in my_str then it will replace the first \n",
    "#occurrence of sub_str with new_str else it will will print sub_str not found:-\n",
    "\n",
    "#Input:- my_str = 'Peter Piper Picked A Peck Of Pickled Peppers.', sub_str = 'Peck', new_str = 'Pack'\n",
    "#Output:- 'Peter Piper Picked A Pack Of Pickled Peppers.'\n",
    "\n",
    "my_str = 'Peter Piper Picked A Peck Of Pickled Peppers.'\n",
    "sub_str = 'Peck'\n",
    "new_str = 'Pack'\n",
    "mod_str = ''\n",
    "\n",
    "for i in range(len(my_str)):\n",
    "    if my_str[i : i + len(sub_str)] == sub_str:\n",
    "        mod_str = mod_str + my_str[0 : i] + new_str + my_str[i+len(new_str) : len(my_str)]\n",
    "        break\n",
    "print(mod_str)"
   ]
  },
  {
   "cell_type": "code",
   "execution_count": 152,
   "metadata": {
    "id": "4Qes5D0cdyd1"
   },
   "outputs": [
    {
     "name": "stdout",
     "output_type": "stream",
     "text": [
      "*********************Peck********************\n"
     ]
    }
   ],
   "source": [
    "#Write a python program to find below output (implements rjust and ljust) using loop:-\n",
    "\n",
    "#Input:- 'Peter Piper Picked A Peck Of Pickled Peppers.', sub_str = 'Peck', \n",
    "#Output:- '*********************Peck********************'\n",
    "\n",
    "my_inp = 'Peter Piper Picked A Peck Of Pickled Peppers.'\n",
    "sub_str = 'Peck'\n",
    "mod_str = ''\n",
    "\n",
    "for i in range(len(my_inp)):\n",
    "    if my_str[i : i + len(sub_str)] == sub_str:\n",
    "        for j in range(0, i):\n",
    "            mod_str = mod_str + '*'\n",
    "        mod_str = mod_str + sub_str\n",
    "        break\n",
    "\n",
    "for k in range(len(mod_str), len(my_inp)):\n",
    "    mod_str = mod_str + '*'\n",
    "\n",
    "print(mod_str)"
   ]
  },
  {
   "cell_type": "code",
   "execution_count": 146,
   "metadata": {
    "id": "DsOrb07Od0lR"
   },
   "outputs": [
    {
     "name": "stdout",
     "output_type": "stream",
     "text": [
      "['This', 'is', 'Python class']\n"
     ]
    }
   ],
   "source": [
    "#Write a python program to find below output using loop:-\n",
    "\n",
    "#Input:- 'This is Python class', sep = ' is', \n",
    "#Output:- ['This', 'is', 'Python class']\n",
    "\n",
    "inp = 'This is Python class'\n",
    "sep = ' is'\n",
    "res_lst = list()\n",
    "\n",
    "for i in range(len(inp)):\n",
    "    if inp[i : i + len(sep)] == sep:\n",
    "        res_lst.append(inp[0 : i])\n",
    "        res_lst.append(sep.strip())\n",
    "        tail = i + len(sep) if inp[i + len(sep)] != ' ' else i + 1 + len(sep)\n",
    "        res_lst.append(inp[tail:])\n",
    "        break\n",
    "print(res_lst)"
   ]
  },
  {
   "cell_type": "code",
   "execution_count": null,
   "metadata": {
    "id": "jRnBVufmd2Ay"
   },
   "outputs": [],
   "source": [
    "\n",
    "\n"
   ]
  }
 ],
 "metadata": {
  "colab": {
   "name": "Conditional_and_loop_assignment.ipynb",
   "provenance": []
  },
  "kernelspec": {
   "display_name": "Python 3",
   "language": "python",
   "name": "python3"
  },
  "language_info": {
   "codemirror_mode": {
    "name": "ipython",
    "version": 3
   },
   "file_extension": ".py",
   "mimetype": "text/x-python",
   "name": "python",
   "nbconvert_exporter": "python",
   "pygments_lexer": "ipython3",
   "version": "3.8.8"
  }
 },
 "nbformat": 4,
 "nbformat_minor": 1
}
