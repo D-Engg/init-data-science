{
 "cells": [
  {
   "cell_type": "code",
   "execution_count": 1,
   "id": "4b028944",
   "metadata": {},
   "outputs": [
    {
     "name": "stdout",
     "output_type": "stream",
     "text": [
      "<class 'bool'>\n",
      "140716444538704\n"
     ]
    }
   ],
   "source": [
    "# Q. ​ Declare a boolean value and store it in a variable.\n",
    "# Check the type and print the id of the same.\n",
    "\n",
    "bool1 = True\n",
    "\n",
    "print(type(bool1))\n",
    "print(id(bool1))"
   ]
  },
  {
   "cell_type": "code",
   "execution_count": 3,
   "id": "7096c6f1",
   "metadata": {},
   "outputs": [
    {
     "name": "stdout",
     "output_type": "stream",
     "text": [
      "140716444538736\n",
      "140716444538736\n"
     ]
    }
   ],
   "source": [
    "# Q.​  ​ Take one boolean value between 0 - 256.\n",
    "# Assign it to two different variables.\n",
    "# Check the id of both the variables. It should come the same. Check why?\n",
    "\n",
    "bool2 = False\n",
    "bool3 = bool2\n",
    "\n",
    "print(id(bool2))\n",
    "print(id(bool3))\n",
    "\n",
    "# Ans: the id is same for both the variables due to Python's object reusability mechanism.\n",
    "# Permissible Entities: int(-5 to 256), NONE, boolean, string(A-Z, a-z,0-9,_)"
   ]
  },
  {
   "cell_type": "code",
   "execution_count": 6,
   "id": "a54d485c",
   "metadata": {},
   "outputs": [
    {
     "name": "stdout",
     "output_type": "stream",
     "text": [
      "2\n",
      "0\n",
      "1\n",
      "1.0\n",
      "0\n",
      "1\n",
      "1\n"
     ]
    }
   ],
   "source": [
    "# Q.​  Arithmetic Operations on boolean data\n",
    "# Take two different boolean values.\n",
    "# Store them in two different variables. \n",
    "# Do below operations on them:-\n",
    "#    Find sum of both values \n",
    "#    Find difference between them\n",
    "#    Find the product of both. \n",
    "#    Find value after dividing first value with second value\n",
    "#    Find the remainder after dividing first value with second value \n",
    "#    Find the quotient after dividing first value with second value\n",
    "#    Find the result of first value to the power of second value.\n",
    "\n",
    "bool4 = True\n",
    "bool5 = True\n",
    "\n",
    "print(bool4 + bool5)\n",
    "print(bool4 - bool5)\n",
    "print(bool4 * bool5)\n",
    "print(bool4 / bool5)\n",
    "print(bool4 % bool5)\n",
    "print(bool4 // bool5)\n",
    "print(bool4 ** bool5)"
   ]
  },
  {
   "cell_type": "code",
   "execution_count": 7,
   "id": "dda9b616",
   "metadata": {},
   "outputs": [
    {
     "name": "stdout",
     "output_type": "stream",
     "text": [
      "True\n",
      "False\n",
      "True\n",
      "False\n"
     ]
    }
   ],
   "source": [
    "# Q.​  ​ Comparison Operators on boolean values\n",
    "# Take two different boolean values.\n",
    "# Store them in two different variables. \n",
    "# Do below operations on them:-\n",
    "#    ​ Compare these two values with below operator:- \n",
    "#        ​ Greater than, '>'\n",
    "#        ​ less than, '<'\n",
    "#        ​ Greater than or equal to, '>=' \n",
    "#        ​ Less than or equal to, '<=' \n",
    "# Observe their output(return type should be boolean) \n",
    "\n",
    "bool6 = True\n",
    "bool7 = False\n",
    "\n",
    "print(bool6 > bool7)\n",
    "print(bool6 < bool7)\n",
    "print(bool6 >= bool7)\n",
    "print(bool6 <= bool7)"
   ]
  },
  {
   "cell_type": "code",
   "execution_count": 8,
   "id": "e8b852fc",
   "metadata": {},
   "outputs": [
    {
     "name": "stdout",
     "output_type": "stream",
     "text": [
      "True\n",
      "False\n"
     ]
    }
   ],
   "source": [
    "# Q.​  Equality Operator\n",
    "# Take two different boolean values. \n",
    "# Store them in two different variables.\n",
    "# Equate them using equality operators (==, !=) \n",
    "# Observe the output(return type should be boolean)\n",
    "\n",
    "bool8 = True\n",
    "bool9 = True\n",
    "\n",
    "print(bool8 == bool9)\n",
    "print(bool8 != bool9)"
   ]
  },
  {
   "cell_type": "code",
   "execution_count": 13,
   "id": "91bd44a2",
   "metadata": {},
   "outputs": [
    {
     "name": "stdout",
     "output_type": "stream",
     "text": [
      "True\n",
      "False\n",
      "False\n",
      "False\n",
      "True\n",
      "True\n",
      "True\n",
      "False\n",
      "False\n",
      "True\n"
     ]
    }
   ],
   "source": [
    "# # Q.​  Logical operators\n",
    "# # Observe the output of below code \n",
    "# # Cross check the output manually\n",
    " \n",
    "# print​ (​ True​  ​ and​  ​ True​ )\n",
    "# #----------------------------------------->Output is True \n",
    "# print​ (​ False​  ​ and​  ​ True​ )\n",
    "# #----------------------------------------->Output is False \n",
    "\n",
    "# print​ (​ True​  ​ and​  ​ False​ ) \n",
    "# #----------------------------------------->Output is False\n",
    " \n",
    "# print​ (​ False​  ​ and​  ​ False​ )\n",
    "# #----------------------------------------->Output is False \n",
    "\n",
    "# print​ (​ True​  ​ or​  ​ True​ ) \n",
    "# #----------------------------------------->Output is True\n",
    " \n",
    "# print​ (​ False​  ​ or​  ​ True​ )\n",
    "# #----------------------------------------->Output is True \n",
    "\n",
    "# print​ (​ True​  ​ or​  ​ False​ ) \n",
    "# #----------------------------------------->Output is True\n",
    " \n",
    "# print​ (​ False​  ​ or​  ​ False​ )\n",
    "# #----------------------------------------->Output is False \n",
    "\n",
    "# print​ (​ not​  ​ True​ ) \n",
    "# #----------------------------------------->Output is False\n",
    " \n",
    "# print​ (​ not​  ​ False​ )\n",
    "# #----------------------------------------->Output is True \n",
    "\n",
    "\n",
    "print(True and True)\n",
    "print(False and True)\n",
    "print(True and False)\n",
    "print(False and False)\n",
    "\n",
    "#Ans: If A is false then (A and B) is A else B. That's the basis of the output for the above statements.\n",
    "\n",
    "print(True or True)\n",
    "print(False or True)\n",
    "print(True or False)\n",
    "print(False or False)\n",
    "\n",
    "#Ans: If A is true then (A or B) is A else B. That's the basis of the output for the above statements.\n",
    "\n",
    "print(not True)\n",
    "print(not False)\n",
    "\n",
    "#Ans: not true is false and same way not false is true "
   ]
  },
  {
   "cell_type": "code",
   "execution_count": 23,
   "id": "56fe3103",
   "metadata": {},
   "outputs": [
    {
     "name": "stdout",
     "output_type": "stream",
     "text": [
      "True\n",
      "True\n",
      "True\n",
      "-2\n",
      "4\n",
      "4\n",
      "0\n"
     ]
    }
   ],
   "source": [
    "# Q.​  Bitwise Operators\n",
    "# Do below operations on the values provided below:- \n",
    "#    Bitwise and(&) --------------> True, True    -------> Output is True\n",
    "#    Bitwise or(|)  --------------> True, False   -------> Output is True \n",
    "#    Bitwise(^)     --------------> True, False   -------> Output is True\n",
    "#    Bitwise negation(~) ---------> True          -------> Output is -2 \n",
    "#    Bitwise left shift  ---------> True,2        -------> Output is 4\n",
    "#    Bitwise right shift ---------> True,2        -------> Output is 0 \n",
    "# Cross check the output manually\n",
    "\n",
    "print(True & True)\n",
    "\n",
    "#1 = 1 = 00000001\n",
    "#        00000001\n",
    "#Ans: 00000001 => True\n",
    "\n",
    "print(True | False)\n",
    "\n",
    "#1 = 1 = 00000001\n",
    "#        00000001\n",
    "#Ans: 00000001 => True\n",
    "\n",
    "print(True ^ False)\n",
    "\n",
    "#1 = 1 = 00000001\n",
    "#        00000001\n",
    "#Ans: 00000001 => True\n",
    "\n",
    "print(~True)\n",
    "\n",
    "#Ans: Opposite sign and value invcremented by 1. True is 1 so expected answer should be -2\n",
    "\n",
    "print(True << 2)\n",
    "\n",
    "#Ans: 1 = 00000001 => 000000100 (decimal 4 = bitwise left shifted 2 bits)\n",
    "\n",
    "print(0b000000100)\n",
    "\n",
    "print(True >> 2)\n",
    "\n",
    "#Ans: 1 = 00000001 => 00000000 (decimal 0 = bitwise left shifted 2 bits)"
   ]
  },
  {
   "cell_type": "code",
   "execution_count": 24,
   "id": "33c3ba08",
   "metadata": {},
   "outputs": [
    {
     "name": "stdout",
     "output_type": "stream",
     "text": [
      "True\n",
      "False\n",
      "False\n",
      "True\n"
     ]
    }
   ],
   "source": [
    "# Q.​  What is the output of expression inside the print statement. Cross\n",
    "# check before running the program. \n",
    "# a = ​ True\n",
    "# b = ​ True \n",
    "# print​ (a ​ is​  b)          #True or False?   # \n",
    "# print​ (a ​ is​  ​ not​  b)      #True or False?\n",
    " \n",
    "# a = ​ False\n",
    "# b = ​ False \n",
    "# print​ (a ​ is​  b)          #True or False?\n",
    "# print​ (a ​ is​  ​ not​  b)      #True or False? \n",
    "\n",
    "a = True\n",
    "b = True\n",
    "\n",
    "print(a is b)\n",
    "print(a is not b)\n",
    "\n",
    "a = True\n",
    "b = False\n",
    "\n",
    "print(a is b)\n",
    "print(a is not b)\n"
   ]
  },
  {
   "cell_type": "code",
   "execution_count": 25,
   "id": "fa44ef3b",
   "metadata": {},
   "outputs": [
    {
     "name": "stdout",
     "output_type": "stream",
     "text": [
      "True\n",
      "True\n",
      "True\n",
      "True\n",
      "True\n"
     ]
    }
   ],
   "source": [
    "# Q.​  Membership operation\n",
    "# in, not in are two membership operators and it returns boolean value\n",
    "\n",
    "# print​ (​ True​  ​ in​  [​ 10​ ,​ 10.20​ ,​ 10​ +​ 20j​ ,​ 'Python'​ , ​ True​ ]) \n",
    "# print​ (​ False​  ​ in​  (​ 10​ ,​ 10.20​ ,​ 10​ +​ 20j​ ,​ 'Python'​ , ​ False​ ))\n",
    "# print​ (​ True​  ​ in​  {​ 1​ ,​ 2​ ,​ 3​ , ​ True​ }) \n",
    "# print​ (​ True​  ​ in​  {​ True​ :​ 100​ , ​ False​ :​ 200​ , ​ True​ :​ 300​ })\n",
    "# print​ (​ False​  ​ in​  {​ True​ :​ 100​ , ​ False​ :​ 200​ , ​ True​ :​ 300​ }) \n",
    "\n",
    "\n",
    "print(True in [10, 10.20, 10+20j, 'Python', True])\n",
    "print(False in (10, 10.20, 10+20j, 'Python', False))\n",
    "print(True in {1, 2, 3, True})\n",
    "print(True in {True, 100, False, 200, True, 300})\n",
    "print(False in {True, 100, False, 200, True, 300})"
   ]
  },
  {
   "cell_type": "code",
   "execution_count": null,
   "id": "ce329123",
   "metadata": {},
   "outputs": [],
   "source": []
  }
 ],
 "metadata": {
  "kernelspec": {
   "display_name": "Python 3",
   "language": "python",
   "name": "python3"
  },
  "language_info": {
   "codemirror_mode": {
    "name": "ipython",
    "version": 3
   },
   "file_extension": ".py",
   "mimetype": "text/x-python",
   "name": "python",
   "nbconvert_exporter": "python",
   "pygments_lexer": "ipython3",
   "version": "3.8.8"
  }
 },
 "nbformat": 4,
 "nbformat_minor": 5
}
