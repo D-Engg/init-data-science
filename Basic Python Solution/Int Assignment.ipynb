{
 "cells": [
  {
   "cell_type": "code",
   "execution_count": 3,
   "id": "a30ea2ec",
   "metadata": {},
   "outputs": [
    {
     "name": "stdout",
     "output_type": "stream",
     "text": [
      "<class 'int'>\n",
      "140716444821584\n"
     ]
    }
   ],
   "source": [
    "# Q. ​ Declare an int value and store it in a variable.Check the type and print the id of the same. \n",
    "\n",
    "int_test = 10\n",
    "print(type(int_test))\n",
    "print(id(int_test))"
   ]
  },
  {
   "cell_type": "code",
   "execution_count": 4,
   "id": "5558d3cf",
   "metadata": {},
   "outputs": [
    {
     "name": "stdout",
     "output_type": "stream",
     "text": [
      "140716444829456\n",
      "140716444829456\n"
     ]
    }
   ],
   "source": [
    "# Q.​  ​ Take one int value between 0 - 256.\n",
    "# Assign it to two different variables. \n",
    "# Check the id of both the variables. It should come the same. Check why?\n",
    "\n",
    "sample_int1 = 256\n",
    "sample_int2 = 256\n",
    "\n",
    "print(id(sample_int1))\n",
    "print(id(sample_int2))\n",
    "\n",
    "# Ans: the id is same for both the variables due to Python's object reusability mechanism.\n",
    "# Permissible Entities: int(-5 to 256), NONE, boolean, string(A-Z, a-z,0-9,_)"
   ]
  },
  {
   "cell_type": "code",
   "execution_count": 5,
   "id": "5039072d",
   "metadata": {},
   "outputs": [
    {
     "name": "stdout",
     "output_type": "stream",
     "text": [
      "140716444821136\n",
      "1883094733168\n"
     ]
    }
   ],
   "source": [
    "# Q.​  Take one int value either less than -5 or greater than 256.\n",
    "# Assign it to two different variables. \n",
    "# Check the id of both the variables. It should come different.Check why?\n",
    "\n",
    "sample_int3 = -4\n",
    "sample_int4 = 257\n",
    "\n",
    "print(id(sample_int3))\n",
    "print(id(sample_int4))\n",
    "\n",
    "#Ans: Due to object reusability"
   ]
  },
  {
   "cell_type": "code",
   "execution_count": 6,
   "id": "aac937cb",
   "metadata": {},
   "outputs": [
    {
     "name": "stdout",
     "output_type": "stream",
     "text": [
      "285\n",
      "225\n",
      "7650\n",
      "8.5\n",
      "15\n",
      "8\n",
      "1571105731713312715511913444948824285516982702388429082930088043212890625\n"
     ]
    }
   ],
   "source": [
    "# Q.​  ​ Arithmetic Operations on integers\n",
    "# Take two different integer values.\n",
    "# Store them in two different variables.\n",
    "# Do below operations on them:- \n",
    "#    ​ Find sum of both numbers\n",
    "#    ​ Find difference between them \n",
    "#    ​ Find the product of both numbers.\n",
    "#    ​ Find value after dividing first num with second number \n",
    "#    ​ Find the remainder after dividing first number with second number\n",
    "#    ​ Find the quotient after dividing first number with second number \n",
    "#    ​ Find the result of the first num to the power of the second number.\n",
    "\n",
    "\n",
    "num1 = 255\n",
    "num2 = 30\n",
    "\n",
    "print(num1 + num2)\n",
    "print(num1 - num2)\n",
    "print(num1 * num2)\n",
    "print(num1 / num2)\n",
    "print(num1 % num2)\n",
    "print(num1 // num2)\n",
    "print(num1 ** num2)"
   ]
  },
  {
   "cell_type": "code",
   "execution_count": 7,
   "id": "0b90d890",
   "metadata": {},
   "outputs": [
    {
     "name": "stdout",
     "output_type": "stream",
     "text": [
      "False\n",
      "True\n",
      "False\n",
      "True\n"
     ]
    }
   ],
   "source": [
    "# Q.​  Comparison Operators on integers\n",
    "# Take two different integer values. \n",
    "# Store them in two different variables.\n",
    "# Do below operations on them:- \n",
    "#    Compare se two numbers with below operator:-\n",
    "#        Greater than, '>' \n",
    "#        Smaller than, '<'\n",
    "#        Greater than or equal to, '>=' \n",
    "#        Less than or equal to, '<='\n",
    "# Observe their output(return type should be boolean)\n",
    "\n",
    "num3 = 55\n",
    "num4 = 78\n",
    "\n",
    "print(num3 > num4)\n",
    "print(num3 < num4)\n",
    "print(num3 >= num4)\n",
    "print(num3 <= num4)"
   ]
  },
  {
   "cell_type": "code",
   "execution_count": 8,
   "id": "25b47bc1",
   "metadata": {},
   "outputs": [
    {
     "name": "stdout",
     "output_type": "stream",
     "text": [
      "True\n",
      "False\n"
     ]
    }
   ],
   "source": [
    "# Equality Operator\n",
    "# Take two different integer values.\n",
    "# Store them in two different variables. \n",
    "# Equate them using equality operators (==, !=)\n",
    "# Observe the output(return type should be boolean) \n",
    "\n",
    "num5 = -5\n",
    "num6 = -5\n",
    "\n",
    "print(num5 == num6)\n",
    "print(num5 != num6)"
   ]
  },
  {
   "cell_type": "code",
   "execution_count": 1,
   "id": "039fee7d",
   "metadata": {},
   "outputs": [
    {
     "name": "stdout",
     "output_type": "stream",
     "text": [
      "20\n",
      "0\n",
      "0\n",
      "0\n",
      "10\n",
      "20\n",
      "20\n",
      "0\n",
      "False\n",
      "True\n"
     ]
    }
   ],
   "source": [
    "# Q.​  Logical operators\n",
    "# Observe the output of below code \n",
    "# Cross check the output manually\n",
    " \n",
    "# print​ (​ 10​  ​ and​  ​ 20​ )\n",
    "# #----------------------------------------->Output is 20 \n",
    "# print​ (​ 0​  ​ and​  ​ 20​ )\n",
    "# #----------------------------------------->Output is 0 \n",
    "# print​ (​ 20​  ​ and​  ​ 0​ )\n",
    "# #----------------------------------------->Output is 0 \n",
    "# print​ (​ 0​  ​ and​  ​ 0​ )\n",
    "# #----------------------------------------->Output is 0 \n",
    "\n",
    "# print​ (​ 10​  ​ or​  ​ 20​ ) \n",
    "# #----------------------------------------->Output is 10\n",
    "# print​ (​ 0​  ​ or​  ​ 20​ ) \n",
    "# #----------------------------------------->Output is 20\n",
    "# print​ (​ 20​  ​ or​  ​ 0​ ) \n",
    "# #----------------------------------------->Output is 20\n",
    "# print​ (​ 0​  ​ or​  ​ 0​ ) \n",
    "# #----------------------------------------->Output is 0\n",
    " \n",
    "# print​ (​ not​  ​ 10​ )\n",
    "# #----------------------------------------->Output is False \n",
    "# print​ (​ not​  ​ 0​ )\n",
    "# #----------------------------------------->Output is True \n",
    "\n",
    "print(10 and 20) \n",
    "print(0 and 20)\n",
    "print(20 and 0)\n",
    "print(0 and 0)\n",
    "\n",
    "#Ans: If A is false then (A and B) is A else B. That's the basis of the output for the above statements.\n",
    "\n",
    "print(10 or 20) \n",
    "print(0 or 20)\n",
    "print(20 or 0)\n",
    "print(0 or 0)\n",
    "\n",
    "#Ans: If A is true then (A or B) is A else B. That's the basis of the output for the above statements.\n",
    "\n",
    "print(not 10) \n",
    "#Ans: 10 is true, not true means false.\n",
    "\n",
    "print(not 0)  \n",
    "#Ans: 0 is false, not false means true."
   ]
  },
  {
   "cell_type": "code",
   "execution_count": 3,
   "id": "110632a7",
   "metadata": {},
   "outputs": [
    {
     "name": "stdout",
     "output_type": "stream",
     "text": [
      "0\n",
      "30\n",
      "30\n",
      "-11\n",
      "40\n",
      "40\n",
      "2\n",
      "2\n"
     ]
    }
   ],
   "source": [
    "# Q.​  Bitwise Operators\n",
    "# Do below operations on the values provided below:- \n",
    "#    Bitwise and(&) -----------------------------------------> 10, 20\n",
    "# -------> Output is 0 \n",
    "#    Bitwise or(|)  -----------------------------------------> 10, 20\n",
    "# -------> Output is 30 \n",
    "#    Bitwise(^)     -----------------------------------------> 10, 20\n",
    "# -------> Output is 30 \n",
    "#    Bitwise negation(~) ------------------------------------> 10\n",
    "# -------> Output is -11 \n",
    "#    Bitwise left shift  ------------------------------------> 10,2\n",
    "# -------> Output is 40 \n",
    "#    Bitwise right shift ------------------------------------> 10,2\n",
    "# -------> Output is 2 \n",
    "# Cross check the output manually\n",
    "\n",
    "\n",
    "print(10 & 20) \n",
    "\n",
    "#10 = 01010 ; bin(10)\n",
    "#20 = 10100 ; bin(20)\n",
    "#Ans = 00000 => 0\n",
    "\n",
    "print(10 | 20)\n",
    "\n",
    "#10 = 01010\n",
    "#20 = 10100\n",
    "#Ans = 11110 ; binary of 30\n",
    "\n",
    "print(10 ^ 20)\n",
    "\n",
    "#10 = 01010\n",
    "#20 = 10100\n",
    "#Ans = 11110 ; binary of 30\n",
    "\n",
    "print(~10)\n",
    "\n",
    "#Ans: Opposite sign with +1\n",
    "\n",
    "print(10 << 2)\n",
    "\n",
    "#Ans: 10 = 1010 = 00001010 => 00101000 (decimal 40 = bitwise left shifted 2 bits)\n",
    "\n",
    "print(0b00101000)\n",
    "\n",
    "print(10 >> 2)\n",
    "\n",
    "#Ans: 10 = 1010 = 00001010 => 00000010 (decimal 2 = bitwise right shifted 2 bits)\n",
    "\n",
    "print(0b00000010)\n"
   ]
  },
  {
   "cell_type": "code",
   "execution_count": 2,
   "id": "f293f65a",
   "metadata": {},
   "outputs": [
    {
     "name": "stdout",
     "output_type": "stream",
     "text": [
      "140716444821584\n",
      "140716444821584\n",
      "True\n",
      "False\n",
      "1852298801584\n",
      "1852298801616\n",
      "False\n",
      "True\n"
     ]
    }
   ],
   "source": [
    "# Q.​  What is the output of expression inside print statement. Cross check\n",
    "# before running the program. \n",
    "# a = 10\n",
    "# b = 10 \n",
    "# print(a is b)          #True or False?\n",
    "# print(a is not b)      #True or False? \n",
    "\n",
    "# a = 1000 \n",
    "# b = 1000\n",
    "# print(a is b)          #True or False? \n",
    "# print(a is not b)      #True or False?\n",
    "\n",
    "#Ans: print statement prints the output of the expression onto a stream or sys.stdout stream by default\n",
    "\n",
    "a = 10\n",
    "b = 10\n",
    "\n",
    "print(id(a))\n",
    "print(id(b))\n",
    "\n",
    "print(a is b)\n",
    "print(a is not b)\n",
    "\n",
    "a = 1000\n",
    "b = 1000\n",
    "\n",
    "print(id(a))\n",
    "print(id(b))\n",
    "\n",
    "print(a is b)\n",
    "print(a is not b)\n",
    "\n",
    "#Happening because of object reusability behavior of Python"
   ]
  },
  {
   "cell_type": "code",
   "execution_count": 39,
   "id": "88ceeb96",
   "metadata": {},
   "outputs": [
    {
     "name": "stdout",
     "output_type": "stream",
     "text": [
      "20\n",
      "124\n",
      "20\n"
     ]
    }
   ],
   "source": [
    "# Q. ​ What is the output of expression inside print statement. Cross checkbefore running the program.\n",
    "# print​ (​ 10​ +(​ 10​ *​ 32​ )//​ 2​ **​ 5​ &​ 20​ +(~(​ -10​ ))<<​ 2​ ) \n",
    "\n",
    "print(10+(10*32)//2**5&20+(~(-10))<<2)\n",
    "\n",
    "#Manual Solution\n",
    "#=10+320//2**5&20+11<<2\n",
    "#=10+320//32&20+11<<2\n",
    "#=10+10&20+11<<2\n",
    "#=20&31<<2\n",
    "#=20&124\n",
    "#=20 (proved)\n",
    "\n",
    "print(31 << 2)\n",
    "\n",
    "print(20&124)"
   ]
  },
  {
   "cell_type": "code",
   "execution_count": 41,
   "id": "29581630",
   "metadata": {},
   "outputs": [
    {
     "name": "stdout",
     "output_type": "stream",
     "text": [
      "True\n",
      "True\n",
      "True\n",
      "True\n",
      "True\n",
      "True\n"
     ]
    }
   ],
   "source": [
    "# Q. ​ Membership operation\n",
    "# in, not in are two membership operators and it returns boolean value\n",
    " \n",
    "# print​ (​ '2'​  ​ in​  ​ 'Python2.7.8'​ )\n",
    "# print​ (​ 10​  ​ in​  [​ 10​ ,​ 10.20​ ,​ 10​ +​ 20j​ ,​ 'Python'​ ])\n",
    "# print​ (​ 10​  ​ in​  (​ 10​ ,​ 10.20​ ,​ 10​ +​ 20j​ ,​ 'Python'​ )) \n",
    "# print​ (​ 2​  ​ in​  {​ 1​ ,​ 2​ ,​ 3​ })\n",
    "# print​ (​ 3​  ​ in​  {​ 1​ :​ 100​ , ​ 2​ :​ 200​ , ​ 3​ :​ 300​ }) \n",
    "# print​ (​ 10​  ​ in​  ​ range​ (​ 20​ )) \n",
    "\n",
    "print('2' in 'Python2.7.8')\n",
    "print(10 in [10, 10.20, 10 + 20j, 'Python'])\n",
    "print(10 in (10, 10.20, 10 + 20j, 'Python' ))\n",
    "print(2 in {1, 2, 3})\n",
    "print(3 in {1, 100, 2, 200, 3, 300})\n",
    "print(10 in range(20))"
   ]
  },
  {
   "cell_type": "code",
   "execution_count": 42,
   "id": "db920070",
   "metadata": {},
   "outputs": [
    {
     "name": "stdout",
     "output_type": "stream",
     "text": [
      "0b10011010010100\n",
      "0o23224\n",
      "0x2694\n"
     ]
    }
   ],
   "source": [
    "# Q. ​ An integer can be represented in binary, octal or hexadecimal form.\n",
    "# Declare one binary, one octal and one hexadecimal value and store themin three different variables.\n",
    "# Convert 9876 to its binary, octal and hexadecimal equivalent and printtheir corresponding value. \n",
    "\n",
    "sample_bin = 0b0101\n",
    "sample_oct = 0o101\n",
    "sample_hex = 0x109A\n",
    "\n",
    "print(bin(9876))\n",
    "print(oct(9876))\n",
    "print(hex(9876))"
   ]
  },
  {
   "cell_type": "code",
   "execution_count": 45,
   "id": "f5b31213",
   "metadata": {},
   "outputs": [
    {
     "name": "stdout",
     "output_type": "stream",
     "text": [
      "80\n",
      "3870\n",
      "64222\n",
      "0b1010000\n",
      "0o7436\n",
      "0xfade\n",
      "0b101000\n",
      "0b1111101011011110\n",
      "0o175336\n",
      "0x50\n",
      "0xfade\n"
     ]
    }
   ],
   "source": [
    "# Q. ​ What will be the output of following:- \n",
    "# a = ​ 0​ b1010000\n",
    "# print​ (a)\n",
    "# b = ​ 0​ o7436\n",
    "# print​ (b)\n",
    "# c = ​ 0x​ fade\n",
    "# print​ (c)\n",
    "# print​ (​ bin​ (​ 80​ )) \n",
    "# print​ (​ oct​ (​ 3870​ ))\n",
    " \n",
    "# print​ (​ hex​ (​ 64222​ ))\n",
    " \n",
    "# print​ (​ bin​ (​ 0​ b1010000))\n",
    " \n",
    "# print​ (​ bin​ (​ 0x​ fade​ ))\n",
    " \n",
    "# print​ (​ oct​ (​ 0x​ fade​ ))\n",
    " \n",
    "# print​ (​ oct​ (​ 0​ o7436))\n",
    " \n",
    "# print​ (​ hex​ (​ 0​ b1010000))\n",
    " \n",
    "# print​ (​ hex​ (​ 0x​ fade​ ))\n",
    "\n",
    "\n",
    "a = 0b1010000\n",
    "print(a)\n",
    "\n",
    "b = 0o7436\n",
    "print(b)\n",
    "\n",
    "c = 0xfade\n",
    "print(c)\n",
    "\n",
    "print(bin(80))\n",
    "print(oct(3870))\n",
    "print(hex(64222))\n",
    "print(bin(0b101000))\n",
    "print(bin(0xfade))\n",
    "print(oct(0xfade))\n",
    "print(hex(0b1010000))\n",
    "print(hex(0xfade))\n"
   ]
  },
  {
   "cell_type": "code",
   "execution_count": null,
   "id": "eaa8d26e",
   "metadata": {},
   "outputs": [],
   "source": []
  }
 ],
 "metadata": {
  "kernelspec": {
   "display_name": "Python 3",
   "language": "python",
   "name": "python3"
  },
  "language_info": {
   "codemirror_mode": {
    "name": "ipython",
    "version": 3
   },
   "file_extension": ".py",
   "mimetype": "text/x-python",
   "name": "python",
   "nbconvert_exporter": "python",
   "pygments_lexer": "ipython3",
   "version": "3.8.8"
  }
 },
 "nbformat": 4,
 "nbformat_minor": 5
}
