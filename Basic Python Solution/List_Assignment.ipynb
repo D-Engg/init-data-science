{
 "cells": [
  {
   "cell_type": "code",
   "execution_count": 1,
   "id": "8057d8fd",
   "metadata": {},
   "outputs": [
    {
     "name": "stdout",
     "output_type": "stream",
     "text": [
      "100\n"
     ]
    }
   ],
   "source": [
    "#Write a Python program to find the sum of all elements in a list using loop.\n",
    "#Input:- [10,20,30,40]\n",
    "#Output:- 100\n",
    "\n",
    "inp_list1 = [10, 20, 30, 40]\n",
    "sum_ele = 0\n",
    "for i in inp_list1:\n",
    "    sum_ele += i\n",
    "print(sum_ele)"
   ]
  },
  {
   "cell_type": "code",
   "execution_count": 4,
   "id": "b442b0f4",
   "metadata": {},
   "outputs": [
    {
     "name": "stdout",
     "output_type": "stream",
     "text": [
      "240000\n"
     ]
    }
   ],
   "source": [
    "#Write a Python program to find the multiplication of all elements in a list using loop.\n",
    "#Input:- [10,20,30,40]\n",
    "#Output:- 240000\n",
    "\n",
    "inp_list2 = [10, 20, 30, 40]\n",
    "mul_ele = 1\n",
    "for i in inp_list2:\n",
    "    mul_ele *= i\n",
    "print(mul_ele)"
   ]
  },
  {
   "cell_type": "code",
   "execution_count": 35,
   "id": "f43a9607",
   "metadata": {},
   "outputs": [
    {
     "name": "stdout",
     "output_type": "stream",
     "text": [
      "2321\n"
     ]
    }
   ],
   "source": [
    "#Write a Python program to find the largest number from a list using loop.\n",
    "#Input:- [10,100,2321, 1,200,2]\n",
    "#Output:- 2321\n",
    "\n",
    "inp_list3 = [10, 100, 2321, 1, 200, 2]\n",
    "max_num = inp_list3[0]\n",
    "for i in range(1, len(inp_list3)):\n",
    "    if(max_num <= inp_list3[i]):\n",
    "        max_num = inp_list3[i]\n",
    "print(max_num)"
   ]
  },
  {
   "cell_type": "code",
   "execution_count": 15,
   "id": "53e81666",
   "metadata": {},
   "outputs": [
    {
     "name": "stdout",
     "output_type": "stream",
     "text": [
      "1\n"
     ]
    }
   ],
   "source": [
    "#Write a Python program to find the smallest number from a list using loop.\n",
    "#Input:- [10,100,2321, 1,200,2]\n",
    "#Output:- 1\n",
    "\n",
    "inp_list4 = [10, 100, 2321, 1, 200, 2]\n",
    "min_num = inp_list3[0]\n",
    "for i in range(1, len(inp_list3)):\n",
    "    if(min_num >= inp_list3[i]):\n",
    "        min_num = inp_list3[i]\n",
    "print(min_num)"
   ]
  },
  {
   "cell_type": "code",
   "execution_count": 9,
   "id": "41f90707",
   "metadata": {},
   "outputs": [
    {
     "name": "stdout",
     "output_type": "stream",
     "text": [
      "2\n"
     ]
    }
   ],
   "source": [
    "#Write a Python program to count the number of strings having length more than 2 and are palindrome in a list using loop.\n",
    "#Input:- ['ab', 'abc', 'aba', 'xyz', '1991']\n",
    "#Output:- 2\n",
    "\n",
    "inp_list5 = ['ab', 'abc', 'aba', 'xyz', '1991']\n",
    "palindrome_count = 0\n",
    "for i in inp_list5:\n",
    "    if(len(i) > 2 and (i == i[::-1])):\n",
    "        palindrome_count += 1\n",
    "\n",
    "print(palindrome_count)"
   ]
  },
  {
   "cell_type": "code",
   "execution_count": 30,
   "id": "8733af8f",
   "metadata": {},
   "outputs": [
    {
     "name": "stdout",
     "output_type": "stream",
     "text": [
      "[1, 2, 9, 10, 65, 80, 100, 298, 483, 9213, 49876]\n"
     ]
    }
   ],
   "source": [
    "#Write a Python program to sort a list in ascending order using loop.\n",
    "#Input:- [100,10,1,298,65,483,49876,2,80,9,9213]\n",
    "#Output:- [1,2,9,10,65,80,100,298,483,9213,49876]\n",
    "\n",
    "inp_list6 = [100,10,1,298,65,483,49876,2,80,9,9213]\n",
    "temp = 0\n",
    "\n",
    "for i in range(len(inp_list6)):\n",
    "    for j in range(i+1, len(inp_list6)):\n",
    "        if(inp_list6[i] > inp_list6[j]):\n",
    "            temp = inp_list6[i]\n",
    "            inp_list6[i] = inp_list6[j]\n",
    "            inp_list6[j] = temp\n",
    "\n",
    "print(inp_list6)"
   ]
  },
  {
   "cell_type": "code",
   "execution_count": 40,
   "id": "6017d389",
   "metadata": {},
   "outputs": [
    {
     "name": "stdout",
     "output_type": "stream",
     "text": [
      "[(9, 1), (2, 3), (5, 4), (5, 5), (7, 6), (5, 9)]\n"
     ]
    }
   ],
   "source": [
    "#Write a Python program to get a sorted list in increasing order of last element in each tuple in a given list using loop.\n",
    "#Input:- [(5,4),(9,1),(2,3),(5,9),(7,6),(5,5)]\n",
    "#output:- [(9,1),(2,3),(5,4),(5,5),(7,6),(5,9)]\n",
    "\n",
    "inp_list7 = [(5,4),(9,1),(2,3),(5,9),(7,6),(5,5)]\n",
    "temp = 0\n",
    "\n",
    "for i in range(len(inp_list7)):\n",
    "    for j in range(i+1, len(inp_list7)):\n",
    "        if(inp_list7[i][1] > inp_list7[j][1]):\n",
    "            temp = inp_list7[i]\n",
    "            inp_list7[i] = inp_list7[j]\n",
    "            inp_list7[j] = temp\n",
    "            \n",
    "print(inp_list7)"
   ]
  },
  {
   "cell_type": "code",
   "execution_count": 54,
   "id": "111f1a1d",
   "metadata": {},
   "outputs": [
    {
     "name": "stdout",
     "output_type": "stream",
     "text": [
      "[10, 1, 11, 29, 876, 768, 92]\n"
     ]
    }
   ],
   "source": [
    "#Write a Python program to remove fuplicate element from a list using loop.\n",
    "#Input:- [10,1,11,1,29,876,768,10,11,1,92,29,876]\n",
    "#Output:- [10,1,11,29,876,768,92]\n",
    "\n",
    "inp_list8 = [10,1,11,1,29,876,768,10,11,1,92,29,876]\n",
    "res_list = []\n",
    "for i in inp_list8:\n",
    "    if(i not in res_list):\n",
    "        res_list.append(i)\n",
    "print(res_list)"
   ]
  },
  {
   "cell_type": "code",
   "execution_count": 57,
   "id": "7ff3cb6a",
   "metadata": {},
   "outputs": [
    {
     "name": "stdout",
     "output_type": "stream",
     "text": [
      "Enter a list: [10,20,30]\n",
      "List is not empty\n"
     ]
    }
   ],
   "source": [
    "#Write a Python program to check a list is empty or not?\n",
    "#Input:- []\n",
    "#Output:- List is empty\n",
    "#Input:- [10,20,30]\n",
    "#Output:- List is not empty\n",
    "\n",
    "input_list = eval(input('Enter a list: '))\n",
    "print('List is not empty' if len(input_list) > 0 else 'List is empty')"
   ]
  },
  {
   "cell_type": "code",
   "execution_count": 60,
   "id": "61e408ae",
   "metadata": {},
   "outputs": [
    {
     "name": "stdout",
     "output_type": "stream",
     "text": [
      "[10, 10.2, (10+20j), 'Python', [10, 20], (10, 20)]\n"
     ]
    }
   ],
   "source": [
    "#Write a Python program to copy a list using loop.\n",
    "#inp_lst = [10,10.20,10+20j, 'Python', [10,20], (10,20)]\n",
    "#out_lst = [10,10.20,10+20j, 'Python', [10,20], (10,20)]\n",
    "\n",
    "inp_lst = [10,10.20,10+20j, 'Python', [10,20], (10,20)]\n",
    "out_lst = []\n",
    "\n",
    "for i in inp_lst:\n",
    "    out_lst.append(i)\n",
    "print(out_lst)"
   ]
  },
  {
   "cell_type": "code",
   "execution_count": 63,
   "id": "a495cf99",
   "metadata": {},
   "outputs": [
    {
     "name": "stdout",
     "output_type": "stream",
     "text": [
      "['much', 'wood', 'would', 'woodchuck', 'chuck', 'could']\n"
     ]
    }
   ],
   "source": [
    "#Write a Python program to find the list of words that are longer than or equal to 4 from a given string.\n",
    "#Input:- 'How much wood would a woodchuck chuck if a woodchuck could chuck wood'\n",
    "#Output:- ['much', 'wood', 'would', 'woodchuck', 'chuck', 'could']\n",
    "#Note:- Duplicate should be avoided.\n",
    "\n",
    "inp_str = 'How much wood would a woodchuck chuck if a woodchuck could chuck wood'\n",
    "out_list = []\n",
    "\n",
    "for i in inp_str.split():\n",
    "    if(i not in out_list and len(i) >= 4):\n",
    "        out_list.append(i)\n",
    "print(out_list)"
   ]
  },
  {
   "cell_type": "code",
   "execution_count": 64,
   "id": "f820b587",
   "metadata": {},
   "outputs": [
    {
     "name": "stdout",
     "output_type": "stream",
     "text": [
      "True\n"
     ]
    }
   ],
   "source": [
    "#Write a Python program which takes two list as input and returns True if they have at least 3 common elements.\n",
    "#inp_lst1 = [10,20,'Python', 10.20, 10+20j, [10,20,30], (10,20,30)]\n",
    "#inp_lst2 = [(10,20,30),1,20+3j,100.2, 10+20j, [10,20,30],'Python']\n",
    "#Output:- True\n",
    "\n",
    "inp_lst1 = [10,20,'Python', 10.20, 10+20j, [10,20,30], (10,20,30)]\n",
    "inp_lst2 = [(10,20,30),1,20+3j,100.2, 10+20j, [10,20,30],'Python']\n",
    "comm = 0\n",
    "\n",
    "for i in inp_lst1:\n",
    "    if(i in inp_lst2):\n",
    "        comm += 1\n",
    "print(True if comm >= 3 else False)"
   ]
  },
  {
   "cell_type": "code",
   "execution_count": 104,
   "id": "c4877f1a",
   "metadata": {},
   "outputs": [
    {
     "name": "stdout",
     "output_type": "stream",
     "text": [
      "[[0, 0, 0, 0], [0, 1, 2, 3], [0, 2, 4, 6], [0, 3, 6, 9]]\n"
     ]
    }
   ],
   "source": [
    "#Write a Python program to create a 4X4 2D matrix with below elements using loop and list comprehension both.\n",
    "#Output:- [[0,0,0,0],[0,1,2,3],[0,2,4,6],[0,3,6,9]]\n",
    "\n",
    "\n",
    "from copy import deepcopy\n",
    "\n",
    "out_mtrx = []\n",
    "ele_lst = []\n",
    "copy_lst = []\n",
    "matrx_len = 4\n",
    "\n",
    "for i in range(matrx_len):\n",
    "    for j in range(matrx_len):\n",
    "        ele_lst.append((i*j))\n",
    "        copy_lst = deepcopy(ele_lst)\n",
    "    out_mtrx.append(copy_lst)\n",
    "    ele_lst.clear()\n",
    "print(out_mtrx)"
   ]
  },
  {
   "cell_type": "code",
   "execution_count": 110,
   "id": "f752837c",
   "metadata": {},
   "outputs": [
    {
     "name": "stdout",
     "output_type": "stream",
     "text": [
      "[[[0, 0, 0, 0, 0, 0], [0, 0, 0, 0, 0, 0], [0, 0, 0, 0, 0, 0], [0, 0, 0, 0, 0, 0]], [[0, 0, 0, 0, 0, 0], [1, 1, 1, 1, 1, 1], [2, 2, 2, 2, 2, 2], [3, 3, 3, 3, 3, 3]], [[0, 0, 0, 0, 0, 0], [2, 2, 2, 2, 2, 2], [4, 4, 4, 4, 4, 4], [6, 6, 6, 6, 6, 6]]]\n"
     ]
    }
   ],
   "source": [
    "#Write a Python program to create a 3X4X6 3D matrix wiith below elements using loop\n",
    "#Output:- \n",
    "# [\n",
    "#     [[0,0,0,0,0,0],[0,0,0,0,0,0],[0,0,0,0,0,0],[0,0,0,0,0,0]],\n",
    "#     [[0,0,0,0,0,0],[1,1,1,1,1,1],[2,2,2,2,2,2],[3,3,3,3,3,3]],\n",
    "#     [[0,0,0,0,0,0],[2,2,2,2,2,2],[4,4,4,4,4,4],[6,6,6,6,6,6]]\n",
    "# ]\n",
    "\n",
    "from copy import deepcopy\n",
    "\n",
    "res_mat = []\n",
    "ele_lst = []\n",
    "inner_lst = []\n",
    "mat_len = 3\n",
    "ele_len = 4\n",
    "inner_len = 6\n",
    "inner_cp = []\n",
    "ele_cp = []\n",
    "\n",
    "\n",
    "for i in range(mat_len):\n",
    "    for j in range(ele_len):\n",
    "        for k in range(inner_len):\n",
    "            inner_lst.append(i*j)\n",
    "            inner_cp = deepcopy(inner_lst)\n",
    "        ele_lst.append(inner_cp)\n",
    "        inner_lst.clear()\n",
    "        ele_cp = deepcopy(ele_lst)\n",
    "    res_mat.append(ele_cp)\n",
    "    ele_lst.clear()\n",
    "\n",
    "print(res_mat)"
   ]
  },
  {
   "cell_type": "code",
   "execution_count": 111,
   "id": "867994ee",
   "metadata": {},
   "outputs": [
    {
     "name": "stdout",
     "output_type": "stream",
     "text": [
      "[21, 87, 45, 33, 1]\n"
     ]
    }
   ],
   "source": [
    "#Write a Python program which takes a list of numbers as input and prints a new list after removing even numbers from it.\n",
    "#Input:- [10,21,22,98,87,45,33,1,2,100]\n",
    "#Output:- [21,87,45,33,1]\n",
    "\n",
    "in_lst = [10,21,22,98,87,45,33,1,2,100]\n",
    "out_lst = []\n",
    "\n",
    "for i in in_lst:\n",
    "    if(i%2 != 0):\n",
    "        out_lst.append(i)\n",
    "\n",
    "print(out_lst)"
   ]
  },
  {
   "cell_type": "code",
   "execution_count": 118,
   "id": "1ba7078a",
   "metadata": {},
   "outputs": [
    {
     "name": "stdout",
     "output_type": "stream",
     "text": [
      "[98, 33, 87, 2, 21, 100, 45, 10, 1, 22]\n"
     ]
    }
   ],
   "source": [
    "#Write a Python program which takes a list from the user and prints it after reshuffling the elements of the list.\n",
    "#Input:- [10,21,22,98,87,45,33,1,2,100]\n",
    "#Output:- [1,87,21,10,33,2,100,45,98,22] (It may be any randon list but with same elements)\n",
    "\n",
    "import random\n",
    "\n",
    "giv_lst = [10,21,22,98,87,45,33,1,2,100]\n",
    "random.shuffle(giv_lst)\n",
    "\n",
    "print(giv_lst)\n"
   ]
  },
  {
   "cell_type": "code",
   "execution_count": null,
   "id": "4d5692a8",
   "metadata": {},
   "outputs": [],
   "source": []
  }
 ],
 "metadata": {
  "kernelspec": {
   "display_name": "Python 3",
   "language": "python",
   "name": "python3"
  },
  "language_info": {
   "codemirror_mode": {
    "name": "ipython",
    "version": 3
   },
   "file_extension": ".py",
   "mimetype": "text/x-python",
   "name": "python",
   "nbconvert_exporter": "python",
   "pygments_lexer": "ipython3",
   "version": "3.8.8"
  }
 },
 "nbformat": 4,
 "nbformat_minor": 5
}
